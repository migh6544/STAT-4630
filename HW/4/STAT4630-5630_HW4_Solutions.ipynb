{
 "cells": [
  {
   "cell_type": "markdown",
   "metadata": {
    "id": "Ujd0rc46_dnq",
    "nbgrader": {
     "grade": false,
     "grade_id": "cell-eeb8b9d983446df1",
     "locked": true,
     "schema_version": 3,
     "solution": false,
     "task": false
    }
   },
   "source": [
    "# Homework #4\n",
    "\n",
    "**See Canvas for this assignment and due date**. Complete all of the following problems. Ideally, the theoretical problems should be answered in a Markdown cell directly underneath the question. If you don't know LaTex/Markdown, you may submit separate handwritten solutions to the theoretical problems, but please see the [class scanning policy](https://docs.google.com/document/d/17y5ksolrn2rEuXYBv_3HeZhkPbYwt48UojNT1OvcB_w/edit?usp=sharing). Please do not turn in messy work. Computational problems should be completed in this notebook (using the R kernel). Computational questions may require code, plots, analysis, interpretation, etc. Working in small groups is allowed, but it is important that you make an effort to master the material and hand in your own work. "
   ]
  },
  {
   "cell_type": "markdown",
   "metadata": {
    "nbgrader": {
     "grade": false,
     "grade_id": "cell-984988e5881c8770",
     "locked": true,
     "schema_version": 3,
     "solution": false,
     "task": false
    }
   },
   "source": [
    "### A.1 Mixtures of conjugate priors\n",
    "\n",
    "Let $\\theta_1,...,\\theta_n$ be continuous random variables with pdfs $\\pi_{i}(\\theta)$, $i = 1,...,n$. Define a *mixture distribution* to be a random variable $\\theta$ with pdf\n",
    "\n",
    "\\begin{align*}\n",
    "\\pi(\\theta) = \\sum^n_{i=1}\\alpha_i \\pi_{i}(\\theta) \n",
    "\\end{align*}\n",
    "\n",
    "where $\\alpha_i$ are nonnegative real numbers such that $\\sum^n_{i=1}\\alpha_i = 1$.\n",
    "\n",
    "**A.1 (a) [10 points] Show that $\\pi(\\theta)$ is a pdf.**"
   ]
  },
  {
   "cell_type": "markdown",
   "metadata": {
    "id": "Qc7mB4njQO7e",
    "nbgrader": {
     "grade": true,
     "grade_id": "cell-bb54c7ea5618fa75",
     "locked": false,
     "points": 10,
     "schema_version": 3,
     "solution": true,
     "task": false
    }
   },
   "source": [
    "First, note that each $\\pi_{i}(\\theta)$ is nonnegative, and each $\\alpha_i$ is nonnegative, and products and sums of nonnegative real numbers are nonnegative. So, $\\pi(x)$ is nonnegative. Also,\n",
    "\n",
    "\\begin{align*}\n",
    "\\int^\\infty_{-\\infty} \\pi(\\theta)d\\theta = \\int^\\infty_{-\\infty}\\sum^n_{i=1}\\alpha_i \\pi_{i}(\\theta)d\\theta = \\sum^n_{i=1}\\alpha_i\\int^\\infty_{-\\infty} \\pi_{i}(\\theta)d\\theta = \\sum^n_{i=1}\\alpha_i = 1.\n",
    "\\end{align*}"
   ]
  },
  {
   "cell_type": "markdown",
   "metadata": {
    "nbgrader": {
     "grade": false,
     "grade_id": "cell-2af5f6dec78832f9",
     "locked": true,
     "schema_version": 3,
     "solution": false,
     "task": false
    }
   },
   "source": [
    "**A.1 (b) [10 points] Consider $\\pi(\\theta) = \\sum^n_{i=1}\\alpha_i \\pi_{i}(\\theta)$ as a prior on $\\theta$ and let $f(\\mathbf{x} \\, | \\, \\theta)$ denote the relevant likelihood function. Show that the posterior on $\\theta \\, | \\, \\mathbf{x}$  is**\n",
    "\n",
    "\\begin{align*}\n",
    "\\pi(\\theta \\, | \\, \\mathbf{x}) \\propto \\sum^n_{i=1}A_i\\pi_i(\\theta\\, | \\, \\mathbf{x}),\n",
    "\\end{align*}\n",
    "\n",
    "**where $\\pi_i(\\theta\\, | \\, \\mathbf{x}) \\propto f(\\mathbf{x} \\, | \\, \\theta)\\pi_i(\\theta)$ and $\\sum^n_{i=1}A_i = 1$.**\n"
   ]
  },
  {
   "cell_type": "markdown",
   "metadata": {
    "nbgrader": {
     "grade": true,
     "grade_id": "cell-07f6b4ea11815165",
     "locked": false,
     "points": 10,
     "schema_version": 3,
     "solution": true,
     "task": false
    }
   },
   "source": [
    "\\begin{align*}\n",
    "\\pi(\\theta \\, | \\, \\mathbf{x}) &= \\frac{f(\\mathbf{x} \\, | \\, \\theta)\\pi(\\theta)}{\\int f(\\mathbf{x} \\, | \\, \\theta)\\pi(\\theta)d\\theta}  = \\frac{f(\\mathbf{x} \\, | \\, \\theta)\\sum^n_{i=1} \\alpha_i \\pi_i(\\theta)}{\\int f(\\mathbf{x} \\, | \\, \\theta)\\pi(\\theta)d\\theta }  \\\\\n",
    "&= \\frac{\\sum^n_{i=1} \\alpha_i f(\\mathbf{x} \\, | \\, \\theta)\\pi_i(\\theta)}{\\int f(\\mathbf{x} \\, | \\, \\theta)\\pi(\\theta)d\\theta } \\\\\n",
    "&= \\frac{\\sum^n_{i=1}\\alpha_i\\pi_i(\\theta\\, | \\, \\mathbf{x})\\int f(\\mathbf{x}\\, | \\, \\theta)\\pi_i(\\theta)d\\theta}{\\int f(\\mathbf{x} \\, | \\, \\theta)\\pi(\\theta)d\\theta} \\\\\n",
    "&= \\sum^n_{i=1} \\underbrace{\\left( \\frac{\\alpha_i\\int f(\\mathbf{x}\\, | \\, \\theta)\\pi_i(\\theta)d\\theta}{\\int f(\\mathbf{x} \\, | \\, \\theta)\\pi(\\theta)d\\theta}  \\right)}_{A_i} \\pi_i(\\theta\\, | \\, \\mathbf{x})\n",
    "\\end{align*}\n",
    "\n",
    "where  \n",
    "\n",
    "\\begin{align*}\n",
    "\\sum^n_{i=1}A_i &= \\sum^n_{i=1}\\left( \\frac{\\alpha_i\\int f(\\mathbf{x}\\, | \\, \\theta)\\pi_i(\\theta)d\\theta}{\\int f(\\mathbf{x} \\, | \\, \\theta)\\pi(\\theta)d\\theta}  \\right) \\\\\n",
    "&=  \\frac{\\int f(\\mathbf{x}\\, | \\, \\theta)\\pi(\\theta)d\\theta}{\\int f(\\mathbf{x} \\, | \\, \\theta)\\pi(\\theta)d\\theta}  = 1 \n",
    "\\end{align*}"
   ]
  },
  {
   "cell_type": "markdown",
   "metadata": {
    "nbgrader": {
     "grade": false,
     "grade_id": "cell-b5ff17757e7d99e1",
     "locked": true,
     "schema_version": 3,
     "solution": false,
     "task": false
    }
   },
   "source": [
    "## A.2 <span style=\"color: #CFB87C;\">(STAT 5630 Students Only)</span>  Conjugate normal model\n",
    "\n",
    "Suppose $\\mathbf{X} = (X_1,...,X_n)^T$ is an independent and identically distributed sample of size $n$ from the distribution $N(\\mu,\\sigma^2)$, where the prior distribution for $(\\mu,\\sigma^2)$ is Normal-Inv-$\\chi^2(\\mu, \\sigma^2 \\, | \\, \\mu_0, \\sigma_0^2\\big/k_0; v_0, \\sigma_0^2)$; that is, $\\sigma^2 \\sim \\text{inv}-\\chi^2(v_0, \\sigma_0^2)$ and $\\mu|\\sigma^2 \\sim N(\\mu_0, \\sigma^2\\big/k_0)$. The posterior distribution, $\\pi(\\mu,\\sigma^2\\, | \\, \\mathbf{x})$, is also normal-inverse-$\\chi^2$.\n",
    "\n",
    "**[15 points] Explicitly derive the posterior parameters in terms of the prior parameters and the sufficient statistics of the data.**\n",
    "\n",
    "That is, $\\mu,\\sigma^2\\, | \\, \\mathbf{x} \\sim $ Normal-inverse-$\\chi^2 (\\mu_1, \\sigma_1^2\\big/k_1; v_1, \\sigma_1^2)$  what are the posterior version of $\\mu_1, \\sigma_1^2\\big/k_1; v_1, \\sigma_1^2$?"
   ]
  },
  {
   "cell_type": "markdown",
   "metadata": {
    "nbgrader": {
     "grade": true,
     "grade_id": "cell-adbb7b340b4025ff",
     "locked": false,
     "points": 15,
     "schema_version": 3,
     "solution": true,
     "task": false
    }
   },
   "source": [
    "In class, we saw that the likelihood can be written as\n",
    "\n",
    "\\begin{align*}\n",
    "f(\\mathbf{x} \\, | \\, \\mu,\\sigma^2) \\propto (\\sigma^2)^{-n/2}\\exp{\\left\\{ -\\frac{1}{2\\sigma^2}\\left((n-1)s^2 + n(\\bar{x}-\\mu)^2   \\right)\\right\\}},\n",
    "\\end{align*}\n",
    "where $s^2$ is the bias-corrected (i.e., $n-1$ in the denominator) sample variance. The normal-inverse-$\\chi^2$ prior can be written as\n",
    "\n",
    "\\begin{align*}\n",
    "\\pi( \\mu,\\sigma^2) \\propto \\sigma^{-1}(\\sigma^2)^{-(v_0/2+1)}\\exp{\\left\\{ -\\frac{1}{2\\sigma^2}\\left(v_0\\sigma^2_0 + k_0(\\mu_0-\\mu)^2   \\right)\\right\\}}.\n",
    "\\end{align*}\n",
    "\n",
    "The posterior will take on the same form as the prior:\n",
    "\n",
    "\\begin{align*}\n",
    "\\pi(\\mu,\\sigma^2 \\, | \\, \\mathbf{x}) &\\propto f(\\mathbf{x} \\, | \\, \\mu,\\sigma^2)\\pi( \\mu,\\sigma^2) \\\\\n",
    "&\\propto (\\sigma^2)^{-n/2}\\exp{\\left\\{ -\\frac{1}{2\\sigma^2}\\left((n-1)s^2 + n(\\bar{x}-\\mu)^2   \\right)\\right\\}}\\sigma^{-1}(\\sigma^2)^{-(v_0/2+1)}\\exp{\\left\\{ -\\frac{1}{2\\sigma^2}\\left(v_0\\sigma^2_0 + k_0(\\mu_0-\\mu)^2   \\right)\\right\\}}\\\\\n",
    "&\\propto \\sigma^{-1}(\\sigma^2)^{-(\\frac{n+v_0}{2}+1)}\\exp{\\left\\{ -\\frac{1}{2\\sigma^2}\\left((n-1)s^2 + v_0\\sigma^2_0 + n(\\bar{x}-\\mu)^2 + k_0(\\mu_0-\\mu)^2  \\right)\\right\\}}\n",
    "\\end{align*}\n",
    "\n",
    "Let's pause and work on the $ n(\\bar{x}-\\mu)^2 + k_0(\\mu_0-\\mu)^2$ term.\n",
    "\n",
    "\\begin{align*}\n",
    " n(\\bar{x}-\\mu)^2 + k_0(\\mu_0-\\mu)^2 &= \\left[(n+k_0)\\mu^2 - 2(n\\bar{x} + k_0\\mu_0)\\mu \\right] + k_0\\mu_0^2 + n\\bar{x} \\\\\n",
    " &= (n+k_0)\\left(\\mu - \\frac{n\\bar{x}+k_0\\mu_0}{n+k_0} \\right)^2 - \\frac{(n\\bar{x}+k_0\\mu_0)^2}{n+k_0} + k_0\\mu_0^2 + n\\bar{x}^2\n",
    "\\end{align*}\n",
    "\n",
    "Now, plugging this term back in:\n",
    "\n",
    "\\begin{align*}\n",
    "\\pi(\\mu,\\sigma^2 \\, | \\, \\mathbf{x}) &\\propto  \\sigma^{-1}(\\sigma^2)^{-(\\frac{n+v_0}{2}+1)}\\exp{\\left\\{ -\\frac{1}{2\\sigma^2}\\left((n-1)s^2 + v_0\\sigma^2_0 - \\frac{(n\\bar{x}+k_0\\mu_0)^2}{n+k_0} + k_0\\mu_0^2 + n\\bar{x}^2 + (n+k_0)\\left(\\mu - \\frac{n\\bar{x}+k_0\\mu_0}{n+k_0} \\right)^2  \\right)\\right\\}}\n",
    "\\end{align*}\n",
    "\n",
    "which is N-inv-$\\chi^2(\\mu_1, \\sigma_1^2\\big/k_1; v_1, \\sigma_1^2),$\n",
    "\n",
    "$$\\mu_1 = \\frac{n\\bar{x}+k_0\\mu_0}{n+k_0}$$\n",
    "$$k_1 = k_0 + n$$\n",
    "$$v_1 = n+ v_0$$\n",
    "$$\\displaystyle\\sigma_1^2 = \\frac{(n-1)s^2 + v_0\\sigma^2_0 - \\frac{k_0n}{n+k_0}(\\bar{x} - \\mu_0)^2}{n+v_0}.$$"
   ]
  },
  {
   "cell_type": "markdown",
   "metadata": {
    "nbgrader": {
     "grade": false,
     "grade_id": "cell-6f3f9eb3dcc66e86",
     "locked": true,
     "schema_version": 3,
     "solution": false,
     "task": false
    }
   },
   "source": [
    "## B. Computational Problems\n",
    "\n",
    "## B.1 Mixture simulations\n",
    "\n",
    "Consider `x` in the cell below to be data. Let's suppose that a group of four researchers, non of which know the true mean `mu_true`, wish to estimate it with a Bayesian poterior. However, there is disagreement among the researchers' priors:\n",
    "\n",
    "- Researcher #1: $\\mu \\sim N(3,1)$\n",
    "\n",
    "- Researcher #2: $\\mu \\sim N(7,1)$\n",
    "\n",
    "- Researcher #3: $\\mu \\sim N(10,1)$\n",
    "\n",
    "- Researcher #4: $\\mu \\sim N(12,1)$\n",
    "\n",
    "Further, Researcher #2 and Researcher #3 have more expertise about the data generating process, and so their prior beliefs should be given the highest weight. Researcher #1 is somewhat trusted, and Researcher #4 is inexperienced, and so we trust them relatively little. More precisely, we weight each researchers' prior according to `alpha = c(0.25, 0.4, 0.3, 0.05)`.\n",
    "\n",
    "**B.1 (a) [12 points] Construct a prior distribution as a mixture of each individual researcher's prior. Plot the prior.**"
   ]
  },
  {
   "cell_type": "code",
   "execution_count": 1,
   "metadata": {
    "nbgrader": {
     "grade": false,
     "grade_id": "cell-1e5d824fbfcff036",
     "locked": true,
     "schema_version": 3,
     "solution": false,
     "task": false
    }
   },
   "outputs": [],
   "source": [
    "set.seed(5630)\n",
    "n = 50; mu_true = 5; sig_true = 2; x = rnorm(n,mu_true,sig_true)"
   ]
  },
  {
   "cell_type": "code",
   "execution_count": 2,
   "metadata": {
    "nbgrader": {
     "grade": true,
     "grade_id": "cell-b33f384872b847c2",
     "locked": false,
     "points": 12,
     "schema_version": 3,
     "solution": true,
     "task": false
    }
   },
   "outputs": [
    {
     "data": {
      "image/png": "[encoded data removed]",
      "text/plain": [
       "plot without title"
      ]
     },
     "metadata": {},
     "output_type": "display_data"
    }
   ],
   "source": [
    "alpha = c(0.25, 0.4, 0.3, 0.05); \n",
    "mu0 = c(3,7,10,12)\n",
    "m = 100; mu_grid = seq(1,15,length.out = m)\n",
    "\n",
    "prior = function(mu,alpha){\n",
    "    pi_mu = 0\n",
    "    for (i in 1:length(alpha)){\n",
    "    pi_mu = pi_mu + alpha[i]*dnorm(mu,mu0[i],1) \n",
    "}\n",
    "    return(pi_mu)\n",
    "}\n",
    "\n",
    "\n",
    "plot(mu_grid, prior(mu_grid,alpha),type = \"l\")"
   ]
  },
  {
   "cell_type": "markdown",
   "metadata": {
    "nbgrader": {
     "grade": false,
     "grade_id": "cell-a47f34326954e8d9",
     "locked": true,
     "schema_version": 3,
     "solution": false,
     "task": false
    }
   },
   "source": [
    "**B.1 (b) [5 points] Construct and plot the likelihood function for the data.**"
   ]
  },
  {
   "cell_type": "code",
   "execution_count": 3,
   "metadata": {
    "nbgrader": {
     "grade": true,
     "grade_id": "cell-e25396856603da09",
     "locked": false,
     "points": 5,
     "schema_version": 3,
     "solution": true,
     "task": false
    }
   },
   "outputs": [
    {
     "data": {
      "image/png": "[encoded data removed]",
      "text/plain": [
       "plot without title"
      ]
     },
     "metadata": {},
     "output_type": "display_data"
    }
   ],
   "source": [
    "l = function(mu,x){\n",
    "    l = 1\n",
    "    for (i in 1:length(x)){\n",
    "        l = l*dnorm(x[i],mu,sig_true)\n",
    "    }\n",
    "    return(l)\n",
    "}\n",
    "plot(mu_grid, l(mu_grid,x), type = \"l\")"
   ]
  },
  {
   "cell_type": "markdown",
   "metadata": {
    "nbgrader": {
     "grade": false,
     "grade_id": "cell-6c279eba305b8d99",
     "locked": true,
     "schema_version": 3,
     "solution": false,
     "task": false
    }
   },
   "source": [
    "**B.1 (c) [8 points] Construct and plot the posterior. Describe it's form.**"
   ]
  },
  {
   "cell_type": "code",
   "execution_count": 4,
   "metadata": {
    "nbgrader": {
     "grade": true,
     "grade_id": "cell-703a7e7fc88ea8a4",
     "locked": false,
     "points": 8,
     "schema_version": 3,
     "solution": true,
     "task": false
    }
   },
   "outputs": [
    {
     "data": {
      "image/png": "[encoded data removed]",
      "text/plain": [
       "plot without title"
      ]
     },
     "metadata": {},
     "output_type": "display_data"
    }
   ],
   "source": [
    "post = function(mu,alpha,x){\n",
    "    post = l(mu,x)*prior(mu,alpha)\n",
    "    return(post)\n",
    "}\n",
    "\n",
    "plot(mu_grid, post(mu_grid,alpha,x), type = \"l\")"
   ]
  },
  {
   "cell_type": "markdown",
   "metadata": {
    "nbgrader": {
     "grade": true,
     "grade_id": "cell-536544429a883463",
     "locked": false,
     "points": 2,
     "schema_version": 3,
     "solution": true,
     "task": false
    }
   },
   "source": [
    "It is still a mixture, but there are fewer modes and less uncertainty."
   ]
  },
  {
   "cell_type": "markdown",
   "metadata": {
    "nbgrader": {
     "grade": false,
     "grade_id": "cell-e5d796acf626cfb2",
     "locked": true,
     "schema_version": 3,
     "solution": false,
     "task": false
    }
   },
   "source": [
    "## B.2 Samples from a multivariate normal with unknown mean and variance\n",
    "\n",
    "Consider the following Bayesian modeling scenario:\n",
    "\n",
    "\\begin{align*}\n",
    "X = (\\mathbf{X}_1,...,\\mathbf{X}_n) &\\sim N(\\underbrace{\\boldsymbol\\mu}_{p\\times 1}, \\Sigma_p), \\,\\,\\,\\, \\mathbf{X}_i = (X_1,...,X_p)^T, \\,\\,\\, p = 3 \\\\\n",
    "\\Sigma_p &\\sim \\text{Inv-Wishart}(v_0,S_0), \\,\\,\\, v_0 = 3, \\,\\,\\, S_0 = I_p \\\\\n",
    "\\boldsymbol\\mu \\, | \\, \\Sigma_p &\\sim N(\\boldsymbol\\mu_0, \\Sigma_p\\big/k_0), \\,\\,\\, \\boldsymbol\\mu_0 = (0,0,0)^T, \\,\\,\\, k_0 = 5\n",
    "\\end{align*}\n",
    "\n",
    "\n",
    "The parameters $v_0$ and $S_0$ describe the degrees of freedom and the scale matrix for the inverse-Wishart distribution on $\\Sigma_p$. The remaining parameters are the prior mean, $\\boldsymbol\\mu_0$, and the number of \"prior measurements\", $k_0$, on the $\\Sigma_p$ scale. Assume that $\\Sigma_p$ and $\\boldsymbol\\mu $ are indepedent.\n",
    "\n",
    "It can be shown that $(\\mu, \\, \\Sigma_p \\, | \\, X)$ has a joint posterior distribution of the form:\n",
    "\n",
    "\\begin{align*}\n",
    "\\pi_1(\\boldsymbol\\mu, \\, \\Sigma_p \\, | \\, X) \\propto |\\Sigma_p|^{-((v_1 + p)/2 + 1)}\\exp{\\left\\{-\\frac{1}{2}tr\\left(S_1\\Sigma_p^{-1}  \\right) - \\frac{k_1}{2}(\\mu - \\mu_1)^T\\Sigma_p^{-1}(\\mu - \\mu_1)\\right\\}},\n",
    "\\end{align*}\n",
    "\n",
    "where \n",
    "\n",
    "- $v_1 = v_0 + n$\n",
    "\n",
    "- $k_1 = k_0 + n$\n",
    "\n",
    "- $\\boldsymbol\\mu_1 = \\frac{k_0}{k_1}\\mu_0 + \\frac{n}{k_1}\\bar{\\mathbf{x}}$\n",
    "\n",
    "- $S_1 = S_0 + W + \\frac{k_0n}{k_1}(\\bar{\\mathbf{x}} - \\mathbf{\\mu_0})(\\bar{\\mathbf{x}} - \\mathbf{\\mu_0})^T$\n",
    "\n",
    "- $W = \\displaystyle \\sum^n_{i = 1}(\\mathbf{x}_i - \\bar{\\mathbf{x}})(\\mathbf{x}_i - \\bar{\\mathbf{x}})^T $\n",
    "\n",
    "**B.2 (a) [15 points] We can use these results to generate samples from the joint posterior distribution on $(\\mu, \\Sigma_p)\\, | \\, X$, according to the following procedure:**\n",
    "\n",
    "- Draw $\\Sigma_p \\, | \\, X \\sim \\text{Inv-Wishart}(v_1,S_1)$.\n",
    "- Then draw $\\boldsymbol\\mu \\, | \\, \\Sigma_p,X \\sim N(\\mu_1, \\Sigma_p/k_1)$\n",
    "\n",
    "**Let the output of this problem be the mean of your realizations of $\\Sigma_p \\, | \\, X$ and  $\\boldsymbol\\mu \\, | \\, \\Sigma_p,X$.**\n",
    "\n",
    "The \"read only\" cells  contain functions from the Unit #3 code and synthetic data generated using those functions."
   ]
  },
  {
   "cell_type": "code",
   "execution_count": 5,
   "metadata": {
    "nbgrader": {
     "grade": false,
     "grade_id": "cell-07bcfdfb6de33770",
     "locked": true,
     "schema_version": 3,
     "solution": false,
     "task": false
    }
   },
   "outputs": [],
   "source": [
    "#random draw from a MV Normal\n",
    "rmvn = function(m,mu,sigma){\n",
    "    p = dim(sigma)[1]\n",
    "    theta = matrix(NA, nrow = p, ncol = m)\n",
    "    for (i in 1:m){\n",
    "        z = rnorm(p,0,1)\n",
    "        L = chol(sigma)\n",
    "        theta[,i] = mu + L%*%z\n",
    "    }\n",
    "    return(theta)\n",
    "}\n",
    "\n",
    "#random draw from a Wishart (invert output for inv Wishart)\n",
    "rwish = function(v,p,S){\n",
    "    alpha = matrix(NA, ncol = v, nrow = p)\n",
    "    for (i in 1:v){\n",
    "        alpha[,i] = rmvn(1,0,S); \n",
    "    }\n",
    "    W = matrix(0, ncol = p, nrow = p)\n",
    "\n",
    "    for (i in 1:p){\n",
    "        W = W + (alpha[,i]%*%t(alpha[,i]))\n",
    "    }\n",
    "    return(W)\n",
    "    }\n"
   ]
  },
  {
   "cell_type": "code",
   "execution_count": 6,
   "metadata": {
    "nbgrader": {
     "grade": false,
     "grade_id": "cell-408e564362e29372",
     "locked": true,
     "schema_version": 3,
     "solution": false,
     "task": false
    }
   },
   "outputs": [],
   "source": [
    "set.seed(101)\n",
    "#data \n",
    "n = 50000\n",
    "p = 3\n",
    "\n",
    "#cov matrix\n",
    "sigma = rbind(c(1,0.6,0.1), c(0.6,1, 0.3), \n",
    "              c(0.1,0.3,1)); \n",
    "\n",
    "#mvn data\n",
    "x = rmvn(n,0,sigma); "
   ]
  },
  {
   "cell_type": "code",
   "execution_count": 7,
   "metadata": {
    "nbgrader": {
     "grade": true,
     "grade_id": "cell-66247de4d1d5de7a",
     "locked": false,
     "points": 15,
     "schema_version": 3,
     "solution": true,
     "task": false
    }
   },
   "outputs": [
    {
     "data": {
      "text/html": [
       "<table>\n",
       "<tbody>\n",
       "\t<tr><td> 28870.348</td><td>-6086.011 </td><td>-22784.338</td></tr>\n",
       "\t<tr><td> -6086.011</td><td>12158.333 </td><td> -6072.323</td></tr>\n",
       "\t<tr><td>-22784.338</td><td>-6072.323 </td><td> 28856.661</td></tr>\n",
       "</tbody>\n",
       "</table>\n"
      ],
      "text/latex": [
       "\\begin{tabular}{lll}\n",
       "\t  28870.348 & -6086.011  & -22784.338\\\\\n",
       "\t  -6086.011 & 12158.333  &  -6072.323\\\\\n",
       "\t -22784.338 & -6072.323  &  28856.661\\\\\n",
       "\\end{tabular}\n"
      ],
      "text/markdown": [
       "\n",
       "|  28870.348 | -6086.011  | -22784.338 |\n",
       "|  -6086.011 | 12158.333  |  -6072.323 |\n",
       "| -22784.338 | -6072.323  |  28856.661 |\n",
       "\n"
      ],
      "text/plain": [
       "     [,1]       [,2]      [,3]      \n",
       "[1,]  28870.348 -6086.011 -22784.338\n",
       "[2,]  -6086.011 12158.333  -6072.323\n",
       "[3,] -22784.338 -6072.323  28856.661"
      ]
     },
     "metadata": {},
     "output_type": "display_data"
    }
   ],
   "source": [
    "#prior initialization\n",
    "S_0 = diag(1,nrow = p)\n",
    "k_0 = 5\n",
    "v_0 = p\n",
    "mu_0 = rep(0,p)\n",
    "\n",
    "#data preparation \n",
    "W = 0\n",
    "for (i in 1:n){\n",
    "        c = x[,i] - mean(x[,i])\n",
    "        W = W + c%*%t(c)\n",
    "    }\n",
    "W\n",
    "#posterior quantities\n",
    "mu_1 = (k_0/(k_0+n))*mu_0 + (n/(k_0+n))*rowMeans(x); \n",
    "k_1 = k_0+n\n",
    "v_1 = v_0+n\n",
    "S_1 = S_0 + W + (k_0*n)/(k_0+n)*(rowMeans(x)-mu_0)%*%t(rowMeans(x)-mu_0); \n",
    "\n",
    "\n",
    "#sample from posterior \n",
    "set.seed(6381)\n",
    "m = 15\n",
    "sig_x_sum = matrix(0,nrow = p, ncol = p); \n",
    "mu_x = matrix(0,nrow = p, ncol = m); \n",
    "for (i in 1:m){\n",
    "    sig_x = matrix(0,nrow = p, ncol = p);\n",
    "    sig_x = solve(rwish(v_1,p,S_1));\n",
    "    mu_x[,i] = rmvn(1,mu_1,sig_x);\n",
    "}\n"
   ]
  },
  {
   "cell_type": "code",
   "execution_count": 8,
   "metadata": {
    "nbgrader": {
     "grade": true,
     "grade_id": "cell-47cb58c94ba1f33e",
     "locked": false,
     "points": 0,
     "schema_version": 3,
     "solution": true,
     "task": false
    }
   },
   "outputs": [
    {
     "data": {
      "text/html": [
       "<ol class=list-inline>\n",
       "\t<li>0.224119022222578</li>\n",
       "\t<li>0.0209990160131074</li>\n",
       "\t<li>-0.00995262766955456</li>\n",
       "</ol>\n"
      ],
      "text/latex": [
       "\\begin{enumerate*}\n",
       "\\item 0.224119022222578\n",
       "\\item 0.0209990160131074\n",
       "\\item -0.00995262766955456\n",
       "\\end{enumerate*}\n"
      ],
      "text/markdown": [
       "1. 0.224119022222578\n",
       "2. 0.0209990160131074\n",
       "3. -0.00995262766955456\n",
       "\n",
       "\n"
      ],
      "text/plain": [
       "[1]  0.224119022  0.020999016 -0.009952628"
      ]
     },
     "metadata": {},
     "output_type": "display_data"
    }
   ],
   "source": [
    "rowMeans(mu_x)"
   ]
  },
  {
   "cell_type": "markdown",
   "metadata": {
    "nbgrader": {
     "grade": false,
     "grade_id": "cell-8dc894f2c5e49b8e",
     "locked": true,
     "schema_version": 3,
     "solution": false,
     "task": false
    }
   },
   "source": [
    "## Problem B.3 Regression modeling\n",
    "\n",
    "In this problem, we'll use a [dataset](https://dasl.datadescription.com/datafile/amazon-books/?_sfm_methods=Multiple+Regression&_sfm_cases=4+59943) about book prices from Amazon. The data consists of data on $n = 325$ books and includes measurements of:\n",
    "\n",
    "- `aprice`: The price listed on Amazon (dollars)\n",
    "\n",
    "\n",
    "- `lprice`: The book's list price (dollars)\n",
    "\n",
    "\n",
    "- `weight`: The book's weight (ounces)\n",
    "\n",
    "\n",
    "- `pages`: The number of pages in the book\n",
    "\n",
    "\n",
    "- `height`: The book's height (inches)\n",
    "\n",
    "\n",
    "- `width`: The book's width (inches)\n",
    "\n",
    "\n",
    "- `thick`: The thickness of the book (inches)\n",
    "\n",
    "\n",
    "- `cover`: Whether the book is a hard cover of paperback.\n",
    "\n",
    "\n",
    "- And other variables...\n",
    "\n",
    "We'll explore a model that will use `lprice`, `pages`, and `width` to predict `aprice`. Here, I use the same cleaning method described in an example in lecture.\n",
    "\n",
    "\n",
    "**B.3 (a) [2 points] Load the dataset and explore it graphically and numerically. Are there relationships between variables?**"
   ]
  },
  {
   "cell_type": "code",
   "execution_count": 9,
   "metadata": {
    "nbgrader": {
     "grade": false,
     "grade_id": "cell-4b8f00760a2333a1",
     "locked": true,
     "schema_version": 3,
     "solution": false,
     "task": false
    }
   },
   "outputs": [
    {
     "name": "stderr",
     "output_type": "stream",
     "text": [
      "Registered S3 methods overwritten by 'ggplot2':\n",
      "  method         from \n",
      "  [.quosures     rlang\n",
      "  c.quosures     rlang\n",
      "  print.quosures rlang\n"
     ]
    },
    {
     "data": {
      "text/plain": [
       "     aprice           lprice           pages           width      \n",
       " Min.   :  0.77   Min.   :  1.50   Min.   : 24.0   Min.   :4.100  \n",
       " 1st Qu.:  8.60   1st Qu.: 13.95   1st Qu.:208.0   1st Qu.:5.200  \n",
       " Median : 10.20   Median : 15.00   Median :320.0   Median :5.400  \n",
       " Mean   : 13.33   Mean   : 18.58   Mean   :335.9   Mean   :5.585  \n",
       " 3rd Qu.: 13.13   3rd Qu.: 19.95   3rd Qu.:416.0   3rd Qu.:5.900  \n",
       " Max.   :139.95   Max.   :139.95   Max.   :896.0   Max.   :9.500  \n",
       "                  NA's   :1        NA's   :2       NA's   :5      \n",
       "     weight          height           thick        cover  \n",
       " Min.   : 1.20   Min.   : 5.100   Min.   :0.1000   H: 89  \n",
       " 1st Qu.: 7.80   1st Qu.: 7.900   1st Qu.:0.6000   P:236  \n",
       " Median :11.20   Median : 8.100   Median :0.9000          \n",
       " Mean   :12.49   Mean   : 8.163   Mean   :0.9077          \n",
       " 3rd Qu.:16.00   3rd Qu.: 8.500   3rd Qu.:1.1000          \n",
       " Max.   :35.20   Max.   :12.100   Max.   :2.1000          \n",
       " NA's   :9       NA's   :4        NA's   :1               "
      ]
     },
     "metadata": {},
     "output_type": "display_data"
    },
    {
     "data": {
      "text/plain": [
       "     aprice            lprice           pages           width      \n",
       " Min.   :  0.770   Min.   :  1.50   Min.   : 24.0   Min.   :4.100  \n",
       " 1st Qu.:  8.598   1st Qu.: 13.95   1st Qu.:208.0   1st Qu.:5.200  \n",
       " Median : 10.200   Median : 15.00   Median :320.0   Median :5.400  \n",
       " Mean   : 13.010   Mean   : 18.58   Mean   :335.8   Mean   :5.584  \n",
       " 3rd Qu.: 13.033   3rd Qu.: 19.95   3rd Qu.:416.0   3rd Qu.:5.900  \n",
       " Max.   :139.950   Max.   :139.95   Max.   :896.0   Max.   :9.500  \n",
       "     weight          height           thick       cover  \n",
       " Min.   : 1.20   Min.   : 5.100   Min.   :0.100   H: 89  \n",
       " 1st Qu.: 7.80   1st Qu.: 7.900   1st Qu.:0.600   P:235  \n",
       " Median :11.20   Median : 8.100   Median :0.900          \n",
       " Mean   :12.48   Mean   : 8.161   Mean   :0.908          \n",
       " 3rd Qu.:16.00   3rd Qu.: 8.500   3rd Qu.:1.100          \n",
       " Max.   :35.20   Max.   :12.100   Max.   :2.100          "
      ]
     },
     "metadata": {},
     "output_type": "display_data"
    }
   ],
   "source": [
    "library(ggplot2)\n",
    "amazon = read.csv(url(\"https://raw.githubusercontent.com/bzaharatos/STAT-5630/main/amazon.txt\"), sep = \"\\t\")\n",
    "\n",
    "df = data.frame(aprice = amazon$Amazon.Price, lprice = as.numeric(amazon$List.Price),  \n",
    "                pages = amazon$NumPages, width = amazon$Width, weight = amazon$Weight..oz,  \n",
    "                height = amazon$Height, thick = amazon$Thick, cover = amazon$Hard..Paper)\n",
    "\n",
    "summary(df)\n",
    "\n",
    "#imputing\n",
    "df$lprice[which(is.na(df$lprice))] = mean(df$lprice, na.rm = TRUE)\n",
    "df$weight[which(is.na(df$weight))] = mean(df$weight, na.rm = TRUE)\n",
    "df$pages[which(is.na(df$pages))] = mean(df$pages, na.rm = TRUE)\n",
    "df$height[which(is.na(df$height))] = mean(df$height, na.rm = TRUE)\n",
    "df$width[which(is.na(df$width))] = mean(df$width, na.rm = TRUE)\n",
    "df$thick[which(is.na(df$thick))] = mean(df$thick, na.rm = TRUE)\n",
    "df = df[-205,]\n",
    "summary(df)"
   ]
  },
  {
   "cell_type": "markdown",
   "metadata": {
    "nbgrader": {
     "grade": true,
     "grade_id": "cell-8a505c3e26929b1c",
     "locked": false,
     "points": 2,
     "schema_version": 3,
     "solution": true,
     "task": false
    }
   },
   "source": []
  },
  {
   "cell_type": "markdown",
   "metadata": {
    "nbgrader": {
     "grade": false,
     "grade_id": "cell-b86d496cff535dc6",
     "locked": true,
     "schema_version": 3,
     "solution": false,
     "task": false
    }
   },
   "source": [
    "**B.3 (b) [14 points] Fit a Bayesian regression model with `aprice` as the repsonse and the rest of the variables as predictors. For your prior, assume that you are relatively sure that the marginal effect of `lprice` is $\\approx 0.9$, but that the marginal effect of all other variables are very uncertain. You also assume that the effects are uncorrelated.**"
   ]
  },
  {
   "cell_type": "code",
   "execution_count": 10,
   "metadata": {
    "nbgrader": {
     "grade": true,
     "grade_id": "cell-2fa7f73bdf247944",
     "locked": false,
     "points": 14,
     "schema_version": 3,
     "solution": true,
     "task": false
    }
   },
   "outputs": [
    {
     "data": {
      "text/html": [
       "<table>\n",
       "<tbody>\n",
       "\t<tr><td>100</td><td>0  </td><td>  0</td><td>  0</td><td>  0</td><td>  0</td><td>  0</td><td>  0</td></tr>\n",
       "\t<tr><td>  0</td><td>1  </td><td>  0</td><td>  0</td><td>  0</td><td>  0</td><td>  0</td><td>  0</td></tr>\n",
       "\t<tr><td>  0</td><td>0  </td><td>100</td><td>  0</td><td>  0</td><td>  0</td><td>  0</td><td>  0</td></tr>\n",
       "\t<tr><td>  0</td><td>0  </td><td>  0</td><td>100</td><td>  0</td><td>  0</td><td>  0</td><td>  0</td></tr>\n",
       "\t<tr><td>  0</td><td>0  </td><td>  0</td><td>  0</td><td>100</td><td>  0</td><td>  0</td><td>  0</td></tr>\n",
       "\t<tr><td>  0</td><td>0  </td><td>  0</td><td>  0</td><td>  0</td><td>100</td><td>  0</td><td>  0</td></tr>\n",
       "\t<tr><td>  0</td><td>0  </td><td>  0</td><td>  0</td><td>  0</td><td>  0</td><td>100</td><td>  0</td></tr>\n",
       "\t<tr><td>  0</td><td>0  </td><td>  0</td><td>  0</td><td>  0</td><td>  0</td><td>  0</td><td>100</td></tr>\n",
       "</tbody>\n",
       "</table>\n"
      ],
      "text/latex": [
       "\\begin{tabular}{llllllll}\n",
       "\t 100 & 0   &   0 &   0 &   0 &   0 &   0 &   0\\\\\n",
       "\t   0 & 1   &   0 &   0 &   0 &   0 &   0 &   0\\\\\n",
       "\t   0 & 0   & 100 &   0 &   0 &   0 &   0 &   0\\\\\n",
       "\t   0 & 0   &   0 & 100 &   0 &   0 &   0 &   0\\\\\n",
       "\t   0 & 0   &   0 &   0 & 100 &   0 &   0 &   0\\\\\n",
       "\t   0 & 0   &   0 &   0 &   0 & 100 &   0 &   0\\\\\n",
       "\t   0 & 0   &   0 &   0 &   0 &   0 & 100 &   0\\\\\n",
       "\t   0 & 0   &   0 &   0 &   0 &   0 &   0 & 100\\\\\n",
       "\\end{tabular}\n"
      ],
      "text/markdown": [
       "\n",
       "| 100 | 0   |   0 |   0 |   0 |   0 |   0 |   0 |\n",
       "|   0 | 1   |   0 |   0 |   0 |   0 |   0 |   0 |\n",
       "|   0 | 0   | 100 |   0 |   0 |   0 |   0 |   0 |\n",
       "|   0 | 0   |   0 | 100 |   0 |   0 |   0 |   0 |\n",
       "|   0 | 0   |   0 |   0 | 100 |   0 |   0 |   0 |\n",
       "|   0 | 0   |   0 |   0 |   0 | 100 |   0 |   0 |\n",
       "|   0 | 0   |   0 |   0 |   0 |   0 | 100 |   0 |\n",
       "|   0 | 0   |   0 |   0 |   0 |   0 |   0 | 100 |\n",
       "\n"
      ],
      "text/plain": [
       "     [,1] [,2] [,3] [,4] [,5] [,6] [,7] [,8]\n",
       "[1,] 100  0      0    0    0    0    0    0 \n",
       "[2,]   0  1      0    0    0    0    0    0 \n",
       "[3,]   0  0    100    0    0    0    0    0 \n",
       "[4,]   0  0      0  100    0    0    0    0 \n",
       "[5,]   0  0      0    0  100    0    0    0 \n",
       "[6,]   0  0      0    0    0  100    0    0 \n",
       "[7,]   0  0      0    0    0    0  100    0 \n",
       "[8,]   0  0      0    0    0    0    0  100 "
      ]
     },
     "metadata": {},
     "output_type": "display_data"
    },
    {
     "data": {
      "text/html": [
       "<table>\n",
       "<tbody>\n",
       "\t<tr><th scope=row>(Intercept)</th><td>-1.774365614</td></tr>\n",
       "\t<tr><th scope=row>lprice</th><td> 0.854700966</td></tr>\n",
       "\t<tr><th scope=row>pages</th><td>-0.001132432</td></tr>\n",
       "\t<tr><th scope=row>width</th><td> 0.157798761</td></tr>\n",
       "\t<tr><th scope=row>weight</th><td>-0.071461531</td></tr>\n",
       "\t<tr><th scope=row>height</th><td>-0.032028980</td></tr>\n",
       "\t<tr><th scope=row>thick</th><td>-1.676916041</td></tr>\n",
       "\t<tr><th scope=row>coverP</th><td> 1.488273649</td></tr>\n",
       "</tbody>\n",
       "</table>\n"
      ],
      "text/latex": [
       "\\begin{tabular}{r|l}\n",
       "\t(Intercept) & -1.774365614\\\\\n",
       "\tlprice &  0.854700966\\\\\n",
       "\tpages & -0.001132432\\\\\n",
       "\twidth &  0.157798761\\\\\n",
       "\tweight & -0.071461531\\\\\n",
       "\theight & -0.032028980\\\\\n",
       "\tthick & -1.676916041\\\\\n",
       "\tcoverP &  1.488273649\\\\\n",
       "\\end{tabular}\n"
      ],
      "text/markdown": [
       "\n",
       "| (Intercept) | -1.774365614 |\n",
       "| lprice |  0.854700966 |\n",
       "| pages | -0.001132432 |\n",
       "| width |  0.157798761 |\n",
       "| weight | -0.071461531 |\n",
       "| height | -0.032028980 |\n",
       "| thick | -1.676916041 |\n",
       "| coverP |  1.488273649 |\n",
       "\n"
      ],
      "text/plain": [
       "            [,1]        \n",
       "(Intercept) -1.774365614\n",
       "lprice       0.854700966\n",
       "pages       -0.001132432\n",
       "width        0.157798761\n",
       "weight      -0.071461531\n",
       "height      -0.032028980\n",
       "thick       -1.676916041\n",
       "coverP       1.488273649"
      ]
     },
     "metadata": {},
     "output_type": "display_data"
    },
    {
     "data": {
      "text/plain": [
       "\n",
       "Call:\n",
       "lm(formula = aprice ~ ., data = df)\n",
       "\n",
       "Residuals:\n",
       "     Min       1Q   Median       3Q      Max \n",
       "-20.3927  -1.8341  -0.3855   1.4233  22.2885 \n",
       "\n",
       "Coefficients:\n",
       "             Estimate Std. Error t value Pr(>|t|)    \n",
       "(Intercept) -1.790394   2.483623  -0.721  0.47152    \n",
       "lprice       0.854647   0.018251  46.828  < 2e-16 ***\n",
       "pages       -0.001128   0.002471  -0.456  0.64840    \n",
       "width        0.158748   0.307261   0.517  0.60576    \n",
       "weight      -0.071535   0.048775  -1.467  0.14347    \n",
       "height      -0.030707   0.285790  -0.107  0.91450    \n",
       "thick       -1.677617   1.132703  -1.481  0.13958    \n",
       "coverP       1.489428   0.569327   2.616  0.00932 ** \n",
       "---\n",
       "Signif. codes:  0 ‘***’ 0.001 ‘**’ 0.01 ‘*’ 0.05 ‘.’ 0.1 ‘ ’ 1\n",
       "\n",
       "Residual standard error: 3.639 on 316 degrees of freedom\n",
       "Multiple R-squared:  0.9163,\tAdjusted R-squared:  0.9145 \n",
       "F-statistic: 494.4 on 7 and 316 DF,  p-value: < 2.2e-16\n"
      ]
     },
     "metadata": {},
     "output_type": "display_data"
    }
   ],
   "source": [
    "#I used the full model. But solutions using the reduced model described above will get full credit\n",
    "p = 7\n",
    "mu0 = c(0,0.9,0,0,0,0,0,0); Sigma_p = diag(c(100,1,100,100,100,100,100,100),nrow = p+1, ncol = p+1); Sigma_p\n",
    "\n",
    "#model matrix\n",
    "lm_amazon = lm(aprice ~ ., data = df)\n",
    "X = model.matrix(lm_amazon); \n",
    "n = dim(X)[1]\n",
    "sig2hat = 2\n",
    "Sigma_n = sig2hat*diag(1,ncol = n, nrow = n); \n",
    "\n",
    "\n",
    "#posterior\n",
    "Sigma_beta = solve(t(X)%*%solve(Sigma_n)%*%X + solve(Sigma_p)); \n",
    "se = sqrt(sig2hat*diag(Sigma_beta))\n",
    "mu_1 = (Sigma_beta)%*%(t(X)%*%solve(Sigma_n)%*%df$aprice + solve(Sigma_p)%*%mu0); mu_1\n",
    "\n",
    "summary(lm_amazon)\n"
   ]
  },
  {
   "cell_type": "markdown",
   "metadata": {
    "nbgrader": {
     "grade": false,
     "grade_id": "cell-938bc2cd864c6be1",
     "locked": true,
     "schema_version": 3,
     "solution": false,
     "task": false
    }
   },
   "source": [
    "**B.3 (c) [6 points] Construct a $95\\%$ credible interval for the parameter associated with `lprice`.**"
   ]
  },
  {
   "cell_type": "code",
   "execution_count": 11,
   "metadata": {
    "nbgrader": {
     "grade": true,
     "grade_id": "cell-35e09c1ef3e76a2d",
     "locked": false,
     "points": 6,
     "schema_version": 3,
     "solution": true,
     "task": false
    }
   },
   "outputs": [
    {
     "data": {
      "text/html": [
       "<ol class=list-inline>\n",
       "\t<li>0.835056232344425</li>\n",
       "\t<li>0.874345700499709</li>\n",
       "</ol>\n"
      ],
      "text/latex": [
       "\\begin{enumerate*}\n",
       "\\item 0.835056232344425\n",
       "\\item 0.874345700499709\n",
       "\\end{enumerate*}\n"
      ],
      "text/markdown": [
       "1. 0.835056232344425\n",
       "2. 0.874345700499709\n",
       "\n",
       "\n"
      ],
      "text/plain": [
       "[1] 0.8350562 0.8743457"
      ]
     },
     "metadata": {},
     "output_type": "display_data"
    }
   ],
   "source": [
    "c(qnorm(0.025, mu_1[2],se[2]),qnorm(0.975, mu_1[2],se[2]))"
   ]
  },
  {
   "cell_type": "markdown",
   "metadata": {
    "nbgrader": {
     "grade": false,
     "grade_id": "cell-0f45d749bd2bb3fe",
     "locked": true,
     "schema_version": 3,
     "solution": false,
     "task": false
    }
   },
   "source": [
    "**B.3 (d) [11 points] Construct a posterior predictive distribution for `aprice` at the `x_star` given below. Print the mean and $95\\%$ credible interval from the posterior predictive distribution.**"
   ]
  },
  {
   "cell_type": "code",
   "execution_count": 12,
   "metadata": {
    "nbgrader": {
     "grade": false,
     "grade_id": "cell-2654c70344164ce6",
     "locked": true,
     "schema_version": 3,
     "solution": false,
     "task": false
    }
   },
   "outputs": [
    {
     "data": {
      "text/html": [
       "<table>\n",
       "<thead><tr><th scope=col>lprice</th><th scope=col>pages</th><th scope=col>width</th><th scope=col>weight</th><th scope=col>height</th><th scope=col>thick</th><th scope=col>as.factor(\"H\")</th></tr></thead>\n",
       "<tbody>\n",
       "\t<tr><td>18.57975 </td><td>335.8448 </td><td>5.583719 </td><td>12.47714 </td><td>8.160966 </td><td>0.9080485</td><td>H        </td></tr>\n",
       "</tbody>\n",
       "</table>\n"
      ],
      "text/latex": [
       "\\begin{tabular}{r|lllllll}\n",
       " lprice & pages & width & weight & height & thick & as.factor(\"H\")\\\\\n",
       "\\hline\n",
       "\t 18.57975  & 335.8448  & 5.583719  & 12.47714  & 8.160966  & 0.9080485 & H        \\\\\n",
       "\\end{tabular}\n"
      ],
      "text/markdown": [
       "\n",
       "| lprice | pages | width | weight | height | thick | as.factor(\"H\") |\n",
       "|---|---|---|---|---|---|---|\n",
       "| 18.57975  | 335.8448  | 5.583719  | 12.47714  | 8.160966  | 0.9080485 | H         |\n",
       "\n"
      ],
      "text/plain": [
       "  lprice   pages    width    weight   height   thick     as.factor(\"H\")\n",
       "1 18.57975 335.8448 5.583719 12.47714 8.160966 0.9080485 H             "
      ]
     },
     "metadata": {},
     "output_type": "display_data"
    }
   ],
   "source": [
    "x_star = data.frame(t(colMeans(X[,2:7]))); \n",
    "x_star = cbind(x_star, as.factor(\"H\")); x_star\n",
    "names(x_star) = c(\"lprice\", \"pages\", \"width\", \"weight\",\"height\",\"thick\",\"cover\"); "
   ]
  },
  {
   "cell_type": "code",
   "execution_count": 13,
   "metadata": {
    "nbgrader": {
     "grade": true,
     "grade_id": "cell-ac7aa2d4e7da83af",
     "locked": false,
     "points": 11,
     "schema_version": 3,
     "solution": true,
     "task": false
    }
   },
   "outputs": [
    {
     "data": {
      "text/html": [
       "12.8455294241335"
      ],
      "text/latex": [
       "12.8455294241335"
      ],
      "text/markdown": [
       "12.8455294241335"
      ],
      "text/plain": [
       "[1] 12.84553"
      ]
     },
     "metadata": {},
     "output_type": "display_data"
    },
    {
     "data": {
      "text/html": [
       "<dl class=dl-horizontal>\n",
       "\t<dt>2.5%</dt>\n",
       "\t\t<dd>6.0665818327781</dd>\n",
       "\t<dt>97.5%</dt>\n",
       "\t\t<dd>20.1158430158267</dd>\n",
       "</dl>\n"
      ],
      "text/latex": [
       "\\begin{description*}\n",
       "\\item[2.5\\textbackslash{}\\%] 6.0665818327781\n",
       "\\item[97.5\\textbackslash{}\\%] 20.1158430158267\n",
       "\\end{description*}\n"
      ],
      "text/markdown": [
       "2.5%\n",
       ":   6.066581832778197.5%\n",
       ":   20.1158430158267\n",
       "\n"
      ],
      "text/plain": [
       "     2.5%     97.5% \n",
       " 6.066582 20.115843 "
      ]
     },
     "metadata": {},
     "output_type": "display_data"
    },
    {
     "data": {
      "text/html": [
       "<table>\n",
       "<thead><tr><th scope=col>fit</th><th scope=col>lwr</th><th scope=col>upr</th></tr></thead>\n",
       "<tbody>\n",
       "\t<tr><td>11.92986</td><td>4.712622</td><td>19.1471 </td></tr>\n",
       "</tbody>\n",
       "</table>\n"
      ],
      "text/latex": [
       "\\begin{tabular}{r|lll}\n",
       " fit & lwr & upr\\\\\n",
       "\\hline\n",
       "\t 11.92986 & 4.712622 & 19.1471 \\\\\n",
       "\\end{tabular}\n"
      ],
      "text/markdown": [
       "\n",
       "| fit | lwr | upr |\n",
       "|---|---|---|\n",
       "| 11.92986 | 4.712622 | 19.1471  |\n",
       "\n"
      ],
      "text/plain": [
       "  fit      lwr      upr    \n",
       "1 11.92986 4.712622 19.1471"
      ]
     },
     "metadata": {},
     "output_type": "display_data"
    }
   ],
   "source": [
    "library(mvtnorm)\n",
    "m = 100\n",
    "y_star = matrix(NA,nrow = m, ncol = 1)\n",
    "\n",
    "for (i in 1:m){\n",
    "    beta_star = rmvnorm(1, mu_1, Sigma_beta)\n",
    "    y_star[i] = rnorm(1,beta_star%*%c(1,as.numeric(x_star)),3.6) #using sighat from lm() as sd\n",
    "}\n",
    "\n",
    "mean(y_star)\n",
    "quantile(y_star, c(0.025,0.975))\n",
    "\n",
    "\n",
    "#compare to LS regression\n",
    "predict(lm_amazon, new = x_star, interval = \"predict\")"
   ]
  },
  {
   "cell_type": "code",
   "execution_count": 14,
   "metadata": {},
   "outputs": [
    {
     "data": {
      "text/html": [
       "<table>\n",
       "<tbody>\n",
       "\t<tr><td>13.37567</td></tr>\n",
       "</tbody>\n",
       "</table>\n"
      ],
      "text/latex": [
       "\\begin{tabular}{l}\n",
       "\t 13.37567\\\\\n",
       "\\end{tabular}\n"
      ],
      "text/markdown": [
       "\n",
       "| 13.37567 |\n",
       "\n"
      ],
      "text/plain": [
       "     [,1]    \n",
       "[1,] 13.37567"
      ]
     },
     "metadata": {},
     "output_type": "display_data"
    },
    {
     "data": {
      "text/html": [
       "<ol class=list-inline>\n",
       "\t<li>18.5797530864198</li>\n",
       "\t<li>335.844799908267</li>\n",
       "\t<li>5.58371913580247</li>\n",
       "\t<li>12.4771350992343</li>\n",
       "\t<li>8.16096592438752</li>\n",
       "\t<li>0.908048506325255</li>\n",
       "\t<li>1</li>\n",
       "</ol>\n"
      ],
      "text/latex": [
       "\\begin{enumerate*}\n",
       "\\item 18.5797530864198\n",
       "\\item 335.844799908267\n",
       "\\item 5.58371913580247\n",
       "\\item 12.4771350992343\n",
       "\\item 8.16096592438752\n",
       "\\item 0.908048506325255\n",
       "\\item 1\n",
       "\\end{enumerate*}\n"
      ],
      "text/markdown": [
       "1. 18.5797530864198\n",
       "2. 335.844799908267\n",
       "3. 5.58371913580247\n",
       "4. 12.4771350992343\n",
       "5. 8.16096592438752\n",
       "6. 0.908048506325255\n",
       "7. 1\n",
       "\n",
       "\n"
      ],
      "text/plain": [
       "[1]  18.5797531 335.8447999   5.5837191  12.4771351   8.1609659   0.9080485\n",
       "[7]   1.0000000"
      ]
     },
     "metadata": {},
     "output_type": "display_data"
    }
   ],
   "source": [
    "beta_star%*%c(1,as.numeric(x_star))\n",
    "as.numeric(x_star)"
   ]
  },
  {
   "cell_type": "code",
   "execution_count": null,
   "metadata": {},
   "outputs": [],
   "source": []
  }
 ],
 "metadata": {
  "celltoolbar": "Create Assignment",
  "colab": {
   "name": "STAT4000-5000_HW8_Solutions.ipynb",
   "provenance": []
  },
  "kernelspec": {
   "display_name": "R",
   "language": "R",
   "name": "ir"
  },
  "language_info": {
   "codemirror_mode": "r",
   "file_extension": ".r",
   "mimetype": "text/x-r-source",
   "name": "R",
   "pygments_lexer": "r",
   "version": "3.6.1"
  }
 },
 "nbformat": 4,
 "nbformat_minor": 1
}

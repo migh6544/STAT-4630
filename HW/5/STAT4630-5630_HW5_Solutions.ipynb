{
 "cells": [
  {
   "cell_type": "markdown",
   "metadata": {
    "id": "Ujd0rc46_dnq",
    "nbgrader": {
     "grade": false,
     "grade_id": "cell-eeb8b9d983446df1",
     "locked": true,
     "schema_version": 3,
     "solution": false,
     "task": false
    }
   },
   "source": [
    "# Homework #5\n",
    "\n",
    "**See Canvas for this assignment and due date**. Complete all of the following problems. Ideally, the theoretical problems should be answered in a Markdown cell directly underneath the question. If you don't know LaTex/Markdown, you may submit separate handwritten solutions to the theoretical problems, but please see the [class scanning policy](https://docs.google.com/document/d/17y5ksolrn2rEuXYBv_3HeZhkPbYwt48UojNT1OvcB_w/edit?usp=sharing). Please do not turn in messy work. Computational problems should be completed in this notebook (using the R kernel). Computational questions may require code, plots, analysis, interpretation, etc. Working in small groups is allowed, but it is important that you make an effort to master the material and hand in your own work. "
   ]
  },
  {
   "cell_type": "markdown",
   "metadata": {
    "nbgrader": {
     "grade": false,
     "grade_id": "cell-984988e5881c8770",
     "locked": true,
     "schema_version": 3,
     "solution": false,
     "task": false
    }
   },
   "source": [
    "### A.1 Justifications for Monte Carlo\n",
    "\n",
    "Let $X_1,...,X_n \\overset{iid}{\\sim}N(\\mu, \\sigma^2)$. Define $S_n^2 = \\frac{1}{n-1}\\sum^n_{i=1}\\left(X_i-\\bar{X}\\right)^2$.\n",
    "\n",
    "**A.1 (a) [6 points] Show that $E(S_n^2) = \\sigma^2$ and $Var(S_n^2) = \\frac{2\\sigma^4}{n-1}.$**\n",
    "\n",
    "HINT: You can use properties of the $\\chi^2$ distribution."
   ]
  },
  {
   "cell_type": "markdown",
   "metadata": {
    "nbgrader": {
     "grade": true,
     "grade_id": "cell-18394ca1359e05c7",
     "locked": false,
     "points": 6,
     "schema_version": 3,
     "solution": true,
     "task": false
    }
   },
   "source": [
    "\\begin{align*}\n",
    "\\frac{(n-1) S_n^2}{\\sigma^2} = \\frac{1}{\\sigma^2}\\sum^n_{i=1}\\left(X_i-\\bar{X}\\right)^2 \\sim \\chi^2(n-1)\n",
    "\\end{align*}\n",
    "\n",
    "\\begin{align*}\n",
    " E\\left(\\frac{(n-1) S_n^2}{\\sigma^2}\\right) = n-1 \\implies  \\frac{(n-1)}{\\sigma^2}E\\left( S_n^2\\right) =n-1  \\implies E\\left( S_n^2\\right) = \\sigma^2.\n",
    "\\end{align*}\n",
    "\n",
    "\\begin{align*}\n",
    "Var\\left(\\frac{(n-1) S_n^2}{\\sigma^2}\\right) = 2(n-1) \\implies  \\frac{(n-1)^2}{\\sigma^4}Var\\left( S_n^2\\right) = 2(n-1) \\implies Var\\left( S_n^2\\right) = \\frac{2\\sigma^4}{n-1}\n",
    "\\end{align*}\n",
    "\n"
   ]
  },
  {
   "cell_type": "markdown",
   "metadata": {
    "nbgrader": {
     "grade": false,
     "grade_id": "cell-0a355c9d1c4d7664",
     "locked": true,
     "schema_version": 3,
     "solution": false,
     "task": false
    }
   },
   "source": [
    "Recall from MathStat that a sequence of random variables, $Y_1, Y_2,...$ *converges in probability* to $Y$ if, for every $\\epsilon > 0$\n",
    "\n",
    "\\begin{align*}\n",
    "\\lim_{n\\to \\infty} P\\left(|Y_n - Y| \\le \\epsilon \\right) = 1.\n",
    "\\end{align*}\n",
    "\n",
    "If $Y_n$ converges in probability to $Y$ we write $Y_n \\overset{P}{\\to} Y$. \n",
    "\n",
    "**A.1 (b) [5 points] Show that $S_n^2 \\overset{P}{\\to} \\sigma^2$.**\n",
    "\n",
    "HINT: You can use a theorem from MathStat related to the bias and variance of $S_n^2$."
   ]
  },
  {
   "cell_type": "markdown",
   "metadata": {
    "nbgrader": {
     "grade": true,
     "grade_id": "cell-a2af73534300404a",
     "locked": false,
     "points": 5,
     "schema_version": 3,
     "solution": true,
     "task": false
    }
   },
   "source": [
    "Since $S_n^2$ is an unbiased estimator of $\\sigma^2$ and its variance goes to zero as $n\\to \\infty$, $S_n^2 \\overset{P}{\\to} \\sigma^2$."
   ]
  },
  {
   "cell_type": "markdown",
   "metadata": {
    "nbgrader": {
     "grade": false,
     "grade_id": "cell-83837a8a28224246",
     "locked": true,
     "schema_version": 3,
     "solution": false,
     "task": false
    }
   },
   "source": [
    "**A.1 (c) [3 points] Argue that $S_n \\overset{P}{\\to} \\sigma$.**\n",
    "\n",
    "Again, you can use a theorem from MathStat."
   ]
  },
  {
   "cell_type": "markdown",
   "metadata": {
    "nbgrader": {
     "grade": true,
     "grade_id": "cell-fc238d8bb15552e8",
     "locked": false,
     "points": 3,
     "schema_version": 3,
     "solution": true,
     "task": false
    }
   },
   "source": [
    "If $Y_n \\overset{P}{\\to} Y$ and $g$ is a continuous function, then $g(Y_n) \\overset{P}{\\to} g(Y)$. This result follows directly from part (b) and $g(x) = \\sqrt{x}$"
   ]
  },
  {
   "cell_type": "markdown",
   "metadata": {
    "nbgrader": {
     "grade": false,
     "grade_id": "cell-2ccfe7a06b6781aa",
     "locked": true,
     "schema_version": 3,
     "solution": false,
     "task": false
    }
   },
   "source": [
    "Suppose that $\\theta_1,...,\\theta_m$ are draws from the posterior distribution $\\pi(\\theta\\, | \\, \\mathbf{y})$, for some data $\\mathbf{Y}$. Futher, suppose that the posterior distribution is normal. \n",
    "\n",
    "**A.1 (d) [3 points]  Use the above results to come up with a Monte Carlo estimator of the posterior variance, $\\sigma^2_1$.**"
   ]
  },
  {
   "cell_type": "markdown",
   "metadata": {
    "nbgrader": {
     "grade": true,
     "grade_id": "cell-8c6b59f6121d8b55",
     "locked": false,
     "points": 3,
     "schema_version": 3,
     "solution": true,
     "task": false
    }
   },
   "source": [
    "$$\\widehat\\sigma_1^2 = \\sqrt{\\frac{1}{m-1}\\sum_{i=1}^m\\left(\\theta_i - \\bar{\\theta} \\right)^2 },$$\n",
    "\n",
    "where $ \\bar{\\theta}$ is the sample mean of the draws."
   ]
  },
  {
   "cell_type": "markdown",
   "metadata": {
    "nbgrader": {
     "grade": false,
     "grade_id": "cell-acab2176655c7966",
     "locked": true,
     "schema_version": 3,
     "solution": false,
     "task": false
    }
   },
   "source": [
    "## A.2 Regression log posterior\n",
    "\n",
    "Assume that $\\mathbf{Y}\\, | \\, X, \\boldsymbol\\beta \\sim N\\left(X\\boldsymbol\\beta, \\Sigma_n\\right)$, where:\n",
    "\n",
    "- $X$ is a $n \\times p$ design matrix with columns of predictor measurements ($p = 3$). You can assume that the data have been centered and scaled so that the intercept is zero, and thus, we do not need a column of $1$'s.\n",
    "\n",
    "- $\\boldsymbol{\\beta} = (\\beta_1, \\beta_2, \\beta_3)^T$ is a vector of regression parameters.\n",
    "\n",
    "- $\\Sigma_n = \\sigma^2I_n$, where $\\sigma$ is known.\n",
    "\n",
    "- $\\beta_j \\overset{iid}{\\sim} N(0,1)$, $j = 1,2,3$. \n",
    "\n",
    "**[8 points] Analytically derive the log posterior distribution.**"
   ]
  },
  {
   "cell_type": "markdown",
   "metadata": {
    "nbgrader": {
     "grade": true,
     "grade_id": "cell-0bd8058b214e6a79",
     "locked": false,
     "points": 8,
     "schema_version": 3,
     "solution": true,
     "task": false
    }
   },
   "source": [
    "Let $f(\\mathbf{y} \\, | \\, \\boldsymbol\\beta,\\mathbf{x})$ denote the likelihood function, $\\pi(\\boldsymbol\\beta)$ the prior distribution, and $\\pi(\\boldsymbol\\beta \\, | \\, \\mathbf{y},\\mathbf{x})$ denote the posterior distribution. Assuming independence among marginal priors, $\\pi(\\boldsymbol\\beta)$ will be the product of individual standard normals.\n",
    "\n",
    "\\begin{align*}\n",
    "\\log\\left( \\pi(\\boldsymbol\\beta \\, | \\, \\mathbf{y},\\mathbf{x})\\right) \\propto \\log\\left(f(\\mathbf{y} \\, | \\, \\boldsymbol\\beta,\\mathbf{x})\\right) + \\log\\left(\\pi(\\boldsymbol\\beta)\\right) = -\\frac{1}{2}\\sum^n_{i=1}\\left(y_i - \\mathbf{x}_i^T\\boldsymbol\\beta \\right)^2 - \\frac{1}{2}\\sum_{j=1}^3\\beta_j^2\n",
    "\\end{align*}\n",
    "\n",
    "where $\\mathbf{x}_i$ is the $i^{th}$ row of the design matrix $X$."
   ]
  },
  {
   "cell_type": "markdown",
   "metadata": {
    "nbgrader": {
     "grade": false,
     "grade_id": "cell-6f3f9eb3dcc66e86",
     "locked": true,
     "schema_version": 3,
     "solution": false,
     "task": false
    }
   },
   "source": [
    "## B. Computational Problems\n",
    "\n",
    "## B.1 Rejection sampling algorithm\n",
    "\n",
    "Tsutakawa et al. (1985) describe the problem of simultaneously estimating the rates of death from stomach cancer for males at risk in the age bracket 45–64 for the largest cities in Missouri. \n",
    "\n",
    "`y`: number of cancer deaths\n",
    "\n",
    "`n`: number at risk\n",
    "\n",
    "In the unit #4 code, we developed a Bayesian model for these data. The goal in this problem will be to write your own sampling algorithms. To do so, you should develop the model here as we did in the unit #4 code, e.g., copy in/write functions for the log-posterior on the transformed scale of the parameters.\n",
    "\n",
    "**B.1 (a) [15 points] In the unit #4 code, we used a function to perform rejection sampling. Here, write your own rejection sampling algorithm that simulates draws of $\\boldsymbol\\theta = \\left(\\log\\left(\\frac{\\eta}{1-\\eta}\\right), \\,  \\log K \\right)^T$ from the posterior distribution in this beta-binomial model. For computational efficiency, you should conduct the acceptance/rejection step on the log scale.**\n",
    "\n",
    "You can \"borrow\" functions (e.g., `betabinexch()`) from the Unit #4 code. The first blank code cell below should contain the necessary functions (e.g., `betabinexch()`). The second cell should be a loop that performs rejection sampling."
   ]
  },
  {
   "cell_type": "code",
   "execution_count": 83,
   "metadata": {
    "nbgrader": {
     "grade": false,
     "grade_id": "cell-55ef27ec32788055",
     "locked": true,
     "schema_version": 3,
     "solution": false,
     "task": false
    },
    "scrolled": true
   },
   "outputs": [
    {
     "data": {
      "text/html": [
       "<table>\n",
       "<thead><tr><th scope=col>y</th><th scope=col>n</th></tr></thead>\n",
       "<tbody>\n",
       "\t<tr><td>0   </td><td>1083</td></tr>\n",
       "\t<tr><td>0   </td><td> 855</td></tr>\n",
       "\t<tr><td>2   </td><td>3461</td></tr>\n",
       "\t<tr><td>0   </td><td> 657</td></tr>\n",
       "\t<tr><td>1   </td><td>1208</td></tr>\n",
       "\t<tr><td>1   </td><td>1025</td></tr>\n",
       "</tbody>\n",
       "</table>\n"
      ],
      "text/latex": [
       "\\begin{tabular}{r|ll}\n",
       " y & n\\\\\n",
       "\\hline\n",
       "\t 0    & 1083\\\\\n",
       "\t 0    &  855\\\\\n",
       "\t 2    & 3461\\\\\n",
       "\t 0    &  657\\\\\n",
       "\t 1    & 1208\\\\\n",
       "\t 1    & 1025\\\\\n",
       "\\end{tabular}\n"
      ],
      "text/markdown": [
       "\n",
       "| y | n |\n",
       "|---|---|\n",
       "| 0    | 1083 |\n",
       "| 0    |  855 |\n",
       "| 2    | 3461 |\n",
       "| 0    |  657 |\n",
       "| 1    | 1208 |\n",
       "| 1    | 1025 |\n",
       "\n"
      ],
      "text/plain": [
       "  y n   \n",
       "1 0 1083\n",
       "2 0  855\n",
       "3 2 3461\n",
       "4 0  657\n",
       "5 1 1208\n",
       "6 1 1025"
      ]
     },
     "metadata": {},
     "output_type": "display_data"
    },
    {
     "data": {
      "text/html": [
       "141.944736842105"
      ],
      "text/latex": [
       "141.944736842105"
      ],
      "text/markdown": [
       "141.944736842105"
      ],
      "text/plain": [
       "[1] 141.9447"
      ]
     },
     "metadata": {},
     "output_type": "display_data"
    },
    {
     "data": {
      "text/html": [
       "0.000993312627661658"
      ],
      "text/latex": [
       "0.000993312627661658"
      ],
      "text/markdown": [
       "0.000993312627661658"
      ],
      "text/plain": [
       "[1] 0.0009933126"
      ]
     },
     "metadata": {},
     "output_type": "display_data"
    },
    {
     "data": {
      "text/html": [
       "1.38829564017654e-08"
      ],
      "text/latex": [
       "1.38829564017654e-08"
      ],
      "text/markdown": [
       "1.38829564017654e-08"
      ],
      "text/plain": [
       "[1] 1.388296e-08"
      ]
     },
     "metadata": {},
     "output_type": "display_data"
    }
   ],
   "source": [
    "library(LearnBayes) #install this package if you don't have it.\n",
    "data(cancermortality)\n",
    "head(cancermortality)\n",
    "\n",
    "\n",
    "var(cancermortality$y); \n",
    "mle = sum(cancermortality$y)/sum(cancermortality$n); mle\n",
    "\n",
    "mle*(1-mle)/sum(cancermortality$n)"
   ]
  },
  {
   "cell_type": "code",
   "execution_count": 88,
   "metadata": {
    "nbgrader": {
     "grade": true,
     "grade_id": "cell-9b0bdb787dc7e241",
     "locked": false,
     "points": 0,
     "schema_version": 3,
     "solution": true,
     "task": false
    }
   },
   "outputs": [
    {
     "data": {
      "text/html": [
       "<dl>\n",
       "\t<dt>$mode</dt>\n",
       "\t\t<dd><ol class=list-inline>\n",
       "\t<li>-6.81979320470292</li>\n",
       "\t<li>7.57611060539524</li>\n",
       "</ol>\n",
       "</dd>\n",
       "\t<dt>$var</dt>\n",
       "\t\t<dd><table>\n",
       "<tbody>\n",
       "\t<tr><td> 0.07896568</td><td>-0.1485087 </td></tr>\n",
       "\t<tr><td>-0.14850874</td><td> 1.3483208 </td></tr>\n",
       "</tbody>\n",
       "</table>\n",
       "</dd>\n",
       "\t<dt>$int</dt>\n",
       "\t\t<dd>-570.774324409148</dd>\n",
       "\t<dt>$converge</dt>\n",
       "\t\t<dd>TRUE</dd>\n",
       "</dl>\n"
      ],
      "text/latex": [
       "\\begin{description}\n",
       "\\item[\\$mode] \\begin{enumerate*}\n",
       "\\item -6.81979320470292\n",
       "\\item 7.57611060539524\n",
       "\\end{enumerate*}\n",
       "\n",
       "\\item[\\$var] \\begin{tabular}{ll}\n",
       "\t  0.07896568 & -0.1485087 \\\\\n",
       "\t -0.14850874 &  1.3483208 \\\\\n",
       "\\end{tabular}\n",
       "\n",
       "\\item[\\$int] -570.774324409148\n",
       "\\item[\\$converge] TRUE\n",
       "\\end{description}\n"
      ],
      "text/markdown": [
       "$mode\n",
       ":   1. -6.81979320470292\n",
       "2. 7.57611060539524\n",
       "\n",
       "\n",
       "\n",
       "$var\n",
       ":   \n",
       "|  0.07896568 | -0.1485087  |\n",
       "| -0.14850874 |  1.3483208  |\n",
       "\n",
       "\n",
       "$int\n",
       ":   -570.774324409148\n",
       "$converge\n",
       ":   TRUE\n",
       "\n",
       "\n"
      ],
      "text/plain": [
       "$mode\n",
       "[1] -6.819793  7.576111\n",
       "\n",
       "$var\n",
       "            [,1]       [,2]\n",
       "[1,]  0.07896568 -0.1485087\n",
       "[2,] -0.14850874  1.3483208\n",
       "\n",
       "$int\n",
       "[1] -570.7743\n",
       "\n",
       "$converge\n",
       "[1] TRUE\n"
      ]
     },
     "metadata": {},
     "output_type": "display_data"
    },
    {
     "data": {
      "text/html": [
       "<ol class=list-inline>\n",
       "\t<li>-6.88896278191358</li>\n",
       "\t<li>12.4219926914014</li>\n",
       "</ol>\n"
      ],
      "text/latex": [
       "\\begin{enumerate*}\n",
       "\\item -6.88896278191358\n",
       "\\item 12.4219926914014\n",
       "\\end{enumerate*}\n"
      ],
      "text/markdown": [
       "1. -6.88896278191358\n",
       "2. 12.4219926914014\n",
       "\n",
       "\n"
      ],
      "text/plain": [
       "[1] -6.888963 12.421993"
      ]
     },
     "metadata": {},
     "output_type": "display_data"
    },
    {
     "data": {
      "text/html": [
       "-569.28291016384"
      ],
      "text/latex": [
       "-569.28291016384"
      ],
      "text/markdown": [
       "-569.28291016384"
      ],
      "text/plain": [
       "[1] -569.2829"
      ]
     },
     "metadata": {},
     "output_type": "display_data"
    }
   ],
   "source": [
    "betabinexch=function (theta, data)\n",
    "   {\n",
    "       eta = exp(theta[1])/(1 + exp(theta[1]))\n",
    "       K = exp(theta[2])\n",
    "       y = data[, 1]\n",
    "       n = data[, 2]\n",
    "N = length(y)\n",
    "logf = function(y, n, K, eta) lbeta(K * eta + y, K * (1 -\n",
    "eta) + n - y) - lbeta(K * eta, K * (1 - eta))\n",
    "    val = sum(logf(y, n, K, eta))\n",
    "       val = val + theta[2] - 2 * log(1 + exp(theta[2]))\n",
    "       return(val)\n",
    "}\n",
    "\n",
    "\n",
    "betabinT=function(theta,datapar) #computes values of log(g(theta | x)) - log(p)\n",
    "   {\n",
    "   data=datapar$data\n",
    "   tpar=datapar$par\n",
    "   d=betabinexch(theta,data)-dmt(theta,mean=c(tpar$m),\n",
    "     S=tpar$var,df=tpar$df,log=TRUE)\n",
    "   return(d)\n",
    "   }\n",
    "\n",
    "fit=laplace(betabinexch,c(-7,6),cancermortality) #MAP\n",
    "fit\n",
    "\n",
    "tpar=list(m=fit$mode,var=2*fit$var,df=4); \n",
    "datapar=list(data=cancermortality,par=tpar)\n",
    "\n",
    "start=c(-6.9,12.4)\n",
    "fit1=laplace(betabinT,start,datapar) #find the constant d such that log(g(theta | x)) - log(p) <= d\n",
    "fit1$mode\n",
    "betabinT(fit1$mode,datapar)"
   ]
  },
  {
   "cell_type": "code",
   "execution_count": 86,
   "metadata": {
    "nbgrader": {
     "grade": true,
     "grade_id": "cell-c1f3a394d0b1b239",
     "locked": false,
     "points": 15,
     "schema_version": 3,
     "solution": true,
     "task": false
    }
   },
   "outputs": [
    {
     "data": {
      "text/html": [
       "0.228"
      ],
      "text/latex": [
       "0.228"
      ],
      "text/markdown": [
       "0.228"
      ],
      "text/plain": [
       "[1] 0.228"
      ]
     },
     "metadata": {},
     "output_type": "display_data"
    },
    {
     "data": {
      "text/html": [
       "<table>\n",
       "<tbody>\n",
       "\t<tr><td>-6.929480</td><td>7.417211 </td></tr>\n",
       "\t<tr><td>-7.080628</td><td>7.531364 </td></tr>\n",
       "\t<tr><td>-6.621855</td><td>7.627409 </td></tr>\n",
       "\t<tr><td>-7.236678</td><td>9.706096 </td></tr>\n",
       "\t<tr><td>-7.097814</td><td>7.774154 </td></tr>\n",
       "\t<tr><td>-7.153513</td><td>7.505638 </td></tr>\n",
       "</tbody>\n",
       "</table>\n"
      ],
      "text/latex": [
       "\\begin{tabular}{ll}\n",
       "\t -6.929480 & 7.417211 \\\\\n",
       "\t -7.080628 & 7.531364 \\\\\n",
       "\t -6.621855 & 7.627409 \\\\\n",
       "\t -7.236678 & 9.706096 \\\\\n",
       "\t -7.097814 & 7.774154 \\\\\n",
       "\t -7.153513 & 7.505638 \\\\\n",
       "\\end{tabular}\n"
      ],
      "text/markdown": [
       "\n",
       "| -6.929480 | 7.417211  |\n",
       "| -7.080628 | 7.531364  |\n",
       "| -6.621855 | 7.627409  |\n",
       "| -7.236678 | 9.706096  |\n",
       "| -7.097814 | 7.774154  |\n",
       "| -7.153513 | 7.505638  |\n",
       "\n"
      ],
      "text/plain": [
       "     [,1]      [,2]    \n",
       "[1,] -6.929480 7.417211\n",
       "[2,] -7.080628 7.531364\n",
       "[3,] -6.621855 7.627409\n",
       "[4,] -7.236678 9.706096\n",
       "[5,] -7.097814 7.774154\n",
       "[6,] -7.153513 7.505638"
      ]
     },
     "metadata": {},
     "output_type": "display_data"
    }
   ],
   "source": [
    "#rejection sampling\n",
    "n = 10\n",
    "dmax = -569.2829\n",
    "\n",
    "m = 500\n",
    "yy = rep(NA,n)\n",
    "zz = matrix(NA,ncol = 2, nrow = m)\n",
    "for (i in 1:m){\n",
    "    theta_sim = rmt(n = 1,mean=c(tpar$m), S=tpar$var,df=tpar$df); \n",
    "    pp = betabinT(theta_sim,datapar)-dmax; \n",
    "    u = runif(1,0,1)\n",
    "    if (log(u) < pp) {\n",
    "        zz[i,] = theta_sim\n",
    "    } else {\n",
    "        zz[i,] = c(NA,NA)\n",
    "    }\n",
    "    yy[i] = log(u) < pp\n",
    "}\n",
    "sum(yy)/m\n",
    "\n",
    "theta = (na.omit(zz))\n",
    "\n",
    "head(theta)"
   ]
  },
  {
   "cell_type": "markdown",
   "metadata": {
    "nbgrader": {
     "grade": false,
     "grade_id": "cell-46edef3ba1229de4",
     "locked": true,
     "schema_version": 3,
     "solution": false,
     "task": false
    }
   },
   "source": [
    "**B.1 (b) [5 points] Use the `mycontour()` function in the `LearnBayes` package to constuct a contour plot of the log posterior distribution. Then, overlay the values of $\\boldsymbol\\theta$ generated from the rejection sampling algorithm in the previous part.**"
   ]
  },
  {
   "cell_type": "code",
   "execution_count": 87,
   "metadata": {
    "nbgrader": {
     "grade": true,
     "grade_id": "cell-e8944e84732506d2",
     "locked": false,
     "points": 5,
     "schema_version": 3,
     "solution": true,
     "task": false
    }
   },
   "outputs": [
    {
     "data": {
      "image/png": "[encoded data removed]",
      "text/plain": [
       "plot without title"
      ]
     },
     "metadata": {},
     "output_type": "display_data"
    }
   ],
   "source": [
    "mycontour(betabinexch,c(-8,-4.5,3,16.5),cancermortality,xlab=\"logit eta\",ylab=\"log K\")\n",
    "points(theta[,1],theta[,2])"
   ]
  },
  {
   "cell_type": "markdown",
   "metadata": {
    "nbgrader": {
     "grade": false,
     "grade_id": "cell-384571afaacfa805",
     "locked": true,
     "schema_version": 3,
     "solution": false,
     "task": false
    }
   },
   "source": [
    "**B.1 (c) [4 points] Estimate the mean of $\\pi(\\eta \\, | \\, K, y_j, n_j)$.**"
   ]
  },
  {
   "cell_type": "code",
   "execution_count": 5,
   "metadata": {
    "nbgrader": {
     "grade": true,
     "grade_id": "cell-9dcb23db45e301b6",
     "locked": false,
     "points": 4,
     "schema_version": 3,
     "solution": true,
     "task": false
    }
   },
   "outputs": [
    {
     "data": {
      "text/html": [
       "0.00104823778174957"
      ],
      "text/latex": [
       "0.00104823778174957"
      ],
      "text/markdown": [
       "0.00104823778174957"
      ],
      "text/plain": [
       "[1] 0.001048238"
      ]
     },
     "metadata": {},
     "output_type": "display_data"
    }
   ],
   "source": [
    "eta_hat = mean(1/(1 + exp(-theta[,1]))); eta_hat\n",
    "#mean(exp(theta[,2]))"
   ]
  },
  {
   "cell_type": "markdown",
   "metadata": {
    "nbgrader": {
     "grade": false,
     "grade_id": "cell-9e0ef81cf4cfd046",
     "locked": true,
     "schema_version": 3,
     "solution": false,
     "task": false
    }
   },
   "source": [
    "## Problem #2 Bayesian Regression modeling in R continued\n",
    "\n",
    "The following dataset containts measurements related to the impact of three advertising medias on sales of a product, $P$. The variables are:\n",
    "\n",
    "- `youtube`($\\mathbf{x}_1$): the advertising budget allocated to YouTube. Measured in thousands of dollars;\n",
    "\n",
    "- `facebook` ($\\mathbf{x}_2$): the advertising budget allocated to Facebook. Measured in thousands of dollars; and \n",
    "\n",
    "- `newspaper`($\\mathbf{x}_3$): the advertising budget allocated to a local newspaper. Measured in thousands of dollars.\n",
    "\n",
    "- `sales`($\\mathbf{Y}$): the value in the $i^{th}$ row of the sales column is a measurement of the sales (in thousands of units) for product $P$ for company $i$.\n",
    "\n",
    "The advertising data treat \"a company selling product $P$\" as the statistical unit, and \"all companies selling product $P$\" as the population. We assume that the $n = 200$ companies in the dataset were chosen at random from the population (a strong assumption!)."
   ]
  },
  {
   "cell_type": "markdown",
   "metadata": {
    "nbgrader": {
     "grade": false,
     "grade_id": "cell-bda939d1b3c631db",
     "locked": true,
     "schema_version": 3,
     "solution": false,
     "task": false
    }
   },
   "source": [
    "In the Unit #4 code, we found the MAP for a simple linear regression on these (standardized) data. Here, let's find the MAP including all of the predictors. \n",
    "\n",
    "Assume that $\\mathbf{Y}\\, | \\, X, \\boldsymbol\\beta \\sim N\\left(X\\boldsymbol\\beta, \\Sigma_n\\right)$, where:\n",
    "\n",
    "- $X$ is a design matrix with columns of predictor measurements.\n",
    "\n",
    "- $\\boldsymbol{\\beta} = (\\beta_1, \\beta_2, \\beta_3)^T$ is a vector of regression parameters.\n",
    "\n",
    "- $\\Sigma_n = \\widehat\\sigma^2I_n$.\n",
    "\n",
    "- $\\widehat\\sigma^2$ is the frequentist estimator of the error variance, $\\sigma^2$.\n",
    "\n",
    "- $\\beta_j \\sim N(0,1)$, $j = 0,1,2,3$. \n",
    "\n",
    "**B.2 (a) Compute the MAP for $\\boldsymbol\\beta \\, | \\, \\mathbf{Y}$.** \n",
    "\n",
    "Use the `laplace()` function; the rest of the problem will be easier. In the first empty cell, write out any R functions that you will need. In the second empty cell, find the MAP."
   ]
  },
  {
   "cell_type": "code",
   "execution_count": 6,
   "metadata": {
    "nbgrader": {
     "grade": false,
     "grade_id": "cell-51e9bc425a62088c",
     "locked": true,
     "schema_version": 3,
     "solution": false,
     "task": false
    },
    "scrolled": true
   },
   "outputs": [
    {
     "name": "stderr",
     "output_type": "stream",
     "text": [
      "Registered S3 methods overwritten by 'ggplot2':\n",
      "  method         from \n",
      "  [.quosures     rlang\n",
      "  c.quosures     rlang\n",
      "  print.quosures rlang\n"
     ]
    },
    {
     "data": {
      "text/html": [
       "<table>\n",
       "<thead><tr><th scope=col>youtube</th><th scope=col>facebook</th><th scope=col>newspaper</th><th scope=col>sales</th></tr></thead>\n",
       "<tbody>\n",
       "\t<tr><td> 0.96742460</td><td> 0.9790656 </td><td>1.7744925  </td><td> 1.5481681 </td></tr>\n",
       "\t<tr><td>-1.19437904</td><td> 1.0800974 </td><td>0.6679027  </td><td>-0.6943038 </td></tr>\n",
       "\t<tr><td>-1.51235985</td><td> 1.5246374 </td><td>1.7790842  </td><td>-0.9051345 </td></tr>\n",
       "\t<tr><td> 0.05191939</td><td> 1.2148065 </td><td>1.2831850  </td><td> 0.8581768 </td></tr>\n",
       "\t<tr><td> 0.39319551</td><td>-0.8395070 </td><td>1.2785934  </td><td>-0.2151431 </td></tr>\n",
       "\t<tr><td>-1.61136487</td><td> 1.7267010 </td><td>2.0408088  </td><td>-1.3076295 </td></tr>\n",
       "</tbody>\n",
       "</table>\n"
      ],
      "text/latex": [
       "\\begin{tabular}{r|llll}\n",
       " youtube & facebook & newspaper & sales\\\\\n",
       "\\hline\n",
       "\t  0.96742460 &  0.9790656  & 1.7744925   &  1.5481681 \\\\\n",
       "\t -1.19437904 &  1.0800974  & 0.6679027   & -0.6943038 \\\\\n",
       "\t -1.51235985 &  1.5246374  & 1.7790842   & -0.9051345 \\\\\n",
       "\t  0.05191939 &  1.2148065  & 1.2831850   &  0.8581768 \\\\\n",
       "\t  0.39319551 & -0.8395070  & 1.2785934   & -0.2151431 \\\\\n",
       "\t -1.61136487 &  1.7267010  & 2.0408088   & -1.3076295 \\\\\n",
       "\\end{tabular}\n"
      ],
      "text/markdown": [
       "\n",
       "| youtube | facebook | newspaper | sales |\n",
       "|---|---|---|---|\n",
       "|  0.96742460 |  0.9790656  | 1.7744925   |  1.5481681  |\n",
       "| -1.19437904 |  1.0800974  | 0.6679027   | -0.6943038  |\n",
       "| -1.51235985 |  1.5246374  | 1.7790842   | -0.9051345  |\n",
       "|  0.05191939 |  1.2148065  | 1.2831850   |  0.8581768  |\n",
       "|  0.39319551 | -0.8395070  | 1.2785934   | -0.2151431  |\n",
       "| -1.61136487 |  1.7267010  | 2.0408088   | -1.3076295  |\n",
       "\n"
      ],
      "text/plain": [
       "  youtube     facebook   newspaper sales     \n",
       "1  0.96742460  0.9790656 1.7744925  1.5481681\n",
       "2 -1.19437904  1.0800974 0.6679027 -0.6943038\n",
       "3 -1.51235985  1.5246374 1.7790842 -0.9051345\n",
       "4  0.05191939  1.2148065 1.2831850  0.8581768\n",
       "5  0.39319551 -0.8395070 1.2785934 -0.2151431\n",
       "6 -1.61136487  1.7267010 2.0408088 -1.3076295"
      ]
     },
     "metadata": {},
     "output_type": "display_data"
    },
    {
     "data": {
      "text/html": [
       "<ol class=list-inline>\n",
       "\t<li>200</li>\n",
       "\t<li>3</li>\n",
       "</ol>\n"
      ],
      "text/latex": [
       "\\begin{enumerate*}\n",
       "\\item 200\n",
       "\\item 3\n",
       "\\end{enumerate*}\n"
      ],
      "text/markdown": [
       "1. 200\n",
       "2. 3\n",
       "\n",
       "\n"
      ],
      "text/plain": [
       "[1] 200   3"
      ]
     },
     "metadata": {},
     "output_type": "display_data"
    }
   ],
   "source": [
    "library(ggplot2)\n",
    "\n",
    "marketing = read.table(url(\"https://raw.githubusercontent.com/bzaharatos/-Statistical-Modeling-for-Data-Science-Applications/master/Modern%20Regression%20Analysis%20/Datasets/marketing.txt\"), sep = \"\")\n",
    "n = dim(marketing)[1]; p = dim(marketing)[2] - 1\n",
    "\n",
    "#scaling the data \n",
    "databar = colMeans(marketing)\n",
    "XX = scale(marketing);\n",
    "df = data.frame(XX); head(df)\n",
    "X = cbind(as.matrix(XX[,1:3])); p = dim(X)[2]; n = dim(X)[1];dim(X)\n",
    "y = df$sales; \n",
    "\n",
    "#frequentist comparison\n",
    "lmod_full = lm(sales ~ .-1, data = df)"
   ]
  },
  {
   "cell_type": "code",
   "execution_count": 55,
   "metadata": {
    "nbgrader": {
     "grade": true,
     "grade_id": "cell-3f2b540638d93359",
     "locked": false,
     "points": 5,
     "schema_version": 3,
     "solution": true,
     "task": false
    }
   },
   "outputs": [
    {
     "data": {
      "text/html": [
       "-99.5"
      ],
      "text/latex": [
       "-99.5"
      ],
      "text/markdown": [
       "-99.5"
      ],
      "text/plain": [
       "[1] -99.5"
      ]
     },
     "metadata": {},
     "output_type": "display_data"
    }
   ],
   "source": [
    "#function that computes the log-posterior up to a constant\n",
    "log_post = function(beta,data){\n",
    "    X = as.matrix(data[,1:3]); \n",
    "    y = data[,4];\n",
    "    a = 5; b = 1\n",
    "    fitted = X%*%beta\n",
    "    log_lik = -1/2*sum((y - fitted)^2) \n",
    "    log_prior = -1/2*sum(beta^2)\n",
    "    log_post = log_lik + log_prior\n",
    "    return(log_post)\n",
    "}\n",
    "\n",
    "\n",
    "log_post(c(0,0,0),df)"
   ]
  },
  {
   "cell_type": "code",
   "execution_count": 56,
   "metadata": {
    "nbgrader": {
     "grade": true,
     "grade_id": "cell-f1f9dda80e8ed897",
     "locked": false,
     "points": 5,
     "schema_version": 3,
     "solution": true,
     "task": false
    }
   },
   "outputs": [
    {
     "data": {
      "text/html": [
       "<dl>\n",
       "\t<dt>$mode</dt>\n",
       "\t\t<dd><ol class=list-inline>\n",
       "\t<li>0.749408545849129</li>\n",
       "\t<li>0.5336003489243</li>\n",
       "\t<li>-0.00306084735390293</li>\n",
       "</ol>\n",
       "</dd>\n",
       "\t<dt>$var</dt>\n",
       "\t\t<dd><table>\n",
       "<tbody>\n",
       "\t<tr><td> 0.0050228529</td><td>-0.0001988555</td><td>-0.0002130479</td></tr>\n",
       "\t<tr><td>-0.0001988555</td><td> 0.0057165392</td><td>-0.0020029183</td></tr>\n",
       "\t<tr><td>-0.0002130479</td><td>-0.0020029183</td><td> 0.0057177030</td></tr>\n",
       "</tbody>\n",
       "</table>\n",
       "</dd>\n",
       "\t<dt>$int</dt>\n",
       "\t\t<dd>-15.774946168062</dd>\n",
       "\t<dt>$converge</dt>\n",
       "\t\t<dd>TRUE</dd>\n",
       "</dl>\n"
      ],
      "text/latex": [
       "\\begin{description}\n",
       "\\item[\\$mode] \\begin{enumerate*}\n",
       "\\item 0.749408545849129\n",
       "\\item 0.5336003489243\n",
       "\\item -0.00306084735390293\n",
       "\\end{enumerate*}\n",
       "\n",
       "\\item[\\$var] \\begin{tabular}{lll}\n",
       "\t  0.0050228529 & -0.0001988555 & -0.0002130479\\\\\n",
       "\t -0.0001988555 &  0.0057165392 & -0.0020029183\\\\\n",
       "\t -0.0002130479 & -0.0020029183 &  0.0057177030\\\\\n",
       "\\end{tabular}\n",
       "\n",
       "\\item[\\$int] -15.774946168062\n",
       "\\item[\\$converge] TRUE\n",
       "\\end{description}\n"
      ],
      "text/markdown": [
       "$mode\n",
       ":   1. 0.749408545849129\n",
       "2. 0.5336003489243\n",
       "3. -0.00306084735390293\n",
       "\n",
       "\n",
       "\n",
       "$var\n",
       ":   \n",
       "|  0.0050228529 | -0.0001988555 | -0.0002130479 |\n",
       "| -0.0001988555 |  0.0057165392 | -0.0020029183 |\n",
       "| -0.0002130479 | -0.0020029183 |  0.0057177030 |\n",
       "\n",
       "\n",
       "$int\n",
       ":   -15.774946168062\n",
       "$converge\n",
       ":   TRUE\n",
       "\n",
       "\n"
      ],
      "text/plain": [
       "$mode\n",
       "[1]  0.749408546  0.533600349 -0.003060847\n",
       "\n",
       "$var\n",
       "              [,1]          [,2]          [,3]\n",
       "[1,]  0.0050228529 -0.0001988555 -0.0002130479\n",
       "[2,] -0.0001988555  0.0057165392 -0.0020029183\n",
       "[3,] -0.0002130479 -0.0020029183  0.0057177030\n",
       "\n",
       "$int\n",
       "[1] -15.77495\n",
       "\n",
       "$converge\n",
       "[1] TRUE\n"
      ]
     },
     "metadata": {},
     "output_type": "display_data"
    },
    {
     "data": {
      "text/plain": [
       "\n",
       "Call:\n",
       "lm(formula = sales ~ . - 1, data = df)\n",
       "\n",
       "Residuals:\n",
       "     Min       1Q   Median       3Q      Max \n",
       "-1.69195 -0.17074  0.04634  0.22795  0.54226 \n",
       "\n",
       "Coefficients:\n",
       "           Estimate Std. Error t value Pr(>|t|)    \n",
       "youtube    0.753066   0.022895  32.892   <2e-16 ***\n",
       "facebook   0.536482   0.024442  21.949   <2e-16 ***\n",
       "newspaper -0.004331   0.024444  -0.177     0.86    \n",
       "---\n",
       "Signif. codes:  0 ‘***’ 0.001 ‘**’ 0.01 ‘*’ 0.05 ‘.’ 0.1 ‘ ’ 1\n",
       "\n",
       "Residual standard error: 0.3222 on 197 degrees of freedom\n",
       "Multiple R-squared:  0.8972,\tAdjusted R-squared:  0.8956 \n",
       "F-statistic: 573.2 on 3 and 197 DF,  p-value: < 2.2e-16\n"
      ]
     },
     "metadata": {},
     "output_type": "display_data"
    }
   ],
   "source": [
    "#using the LearnBayes laplace() function to compute the MAP\n",
    "library(LearnBayes)\n",
    "fit=laplace(log_post,c(0,0,0),df) #MAP\n",
    "fit\n",
    "summary(lmod_full)"
   ]
  },
  {
   "cell_type": "markdown",
   "metadata": {},
   "source": [
    "Now let's try to find the full posterior distribution for $\\boldsymbol\\beta$ with rejection sampling. We'll use the same proposal distribution as in previous examples, i.e., the multivariate t distribution with parameters `tpar=list(m=t(fit$mode),var=2*fit$var,df=4)` where `fit` is the output of the `laplace()` function.\n",
    "\n",
    "**B.2 (b) First, write a function that computes values of $\\log(g(\\boldsymbol\\beta | y,n)) - \\log(p(\\boldsymbol\\beta))$, where $g$ is the posterior distribution up to a normalizing constant and $p$ is the proposal distribution.**"
   ]
  },
  {
   "cell_type": "code",
   "execution_count": 57,
   "metadata": {
    "nbgrader": {
     "grade": true,
     "grade_id": "cell-f9836340d6ec8ebe",
     "locked": false,
     "points": 8,
     "schema_version": 3,
     "solution": true,
     "task": false
    },
    "scrolled": false
   },
   "outputs": [],
   "source": [
    "logpostT=function(beta,datapar) #computes values of log(g(beta | y,n)) - log(p(beta))\n",
    "   {\n",
    "   data=datapar$data\n",
    "   tpar=datapar$par\n",
    "   d=log_post(beta,data)-dmt(beta,mean=c(tpar$m),S=tpar$var,df=tpar$df,log=TRUE)\n",
    "   return(d)\n",
    "   }\n",
    "\n",
    "tpar=list(m=t(fit$mode),var=2*fit$var,df=4); #t distribution parameters\n",
    "datapar=list(data=df,par=tpar) #data parameters"
   ]
  },
  {
   "cell_type": "markdown",
   "metadata": {
    "nbgrader": {
     "grade": false,
     "grade_id": "cell-32f670ab9d9c4aa7",
     "locked": true,
     "schema_version": 3,
     "solution": false,
     "task": false
    }
   },
   "source": [
    "**B.2 (c) Find the constant $d$ such that $\\log(g(\\boldsymbol\\beta | y,n)) - \\log(p(\\boldsymbol\\beta)) \\le d$.**"
   ]
  },
  {
   "cell_type": "code",
   "execution_count": 58,
   "metadata": {
    "nbgrader": {
     "grade": true,
     "grade_id": "cell-85177a4ef9bdc146",
     "locked": false,
     "points": 6,
     "schema_version": 3,
     "solution": true,
     "task": false
    }
   },
   "outputs": [
    {
     "data": {
      "text/html": [
       "-14.8964764994671"
      ],
      "text/latex": [
       "-14.8964764994671"
      ],
      "text/markdown": [
       "-14.8964764994671"
      ],
      "text/plain": [
       "[1] -14.89648"
      ]
     },
     "metadata": {},
     "output_type": "display_data"
    }
   ],
   "source": [
    "start=c(1,1,1)\n",
    "fit1=laplace(logpostT,start,datapar) #find the constant d such that log(g(theta | y,n)) - log(theta) <= d\n",
    "#fit1$mode values that maximize log(g(beta | y,n)) - log(p(beta))\n",
    "dmax = logpostT(fit1$mode,datapar) #dmax = max of log(g(beta | y,n)) - log(p(beta))\n",
    "dmax"
   ]
  },
  {
   "cell_type": "markdown",
   "metadata": {
    "nbgrader": {
     "grade": false,
     "grade_id": "cell-a33c090ed75f84da",
     "locked": true,
     "schema_version": 3,
     "solution": false,
     "task": false
    }
   },
   "source": [
    "**B.2(d) [20 points] Perform rejection sampling by two different methods:**\n",
    "\n",
    "1. using the `rejectsampling()` function in the `LearnBayes` package.\n",
    "\n",
    "2. Writing your own rejection sampling algorithmm."
   ]
  },
  {
   "cell_type": "code",
   "execution_count": 79,
   "metadata": {
    "nbgrader": {
     "grade": true,
     "grade_id": "cell-3a1dd07d37e3dc4a",
     "locked": false,
     "points": 5,
     "schema_version": 3,
     "solution": true,
     "task": false
    }
   },
   "outputs": [
    {
     "data": {
      "text/html": [
       "<ol class=list-inline>\n",
       "\t<li>210</li>\n",
       "\t<li>3</li>\n",
       "</ol>\n"
      ],
      "text/latex": [
       "\\begin{enumerate*}\n",
       "\\item 210\n",
       "\\item 3\n",
       "\\end{enumerate*}\n"
      ],
      "text/markdown": [
       "1. 210\n",
       "2. 3\n",
       "\n",
       "\n"
      ],
      "text/plain": [
       "[1] 210   3"
      ]
     },
     "metadata": {},
     "output_type": "display_data"
    }
   ],
   "source": [
    "m = 10000\n",
    "theta=rejectsampling(logpostT,tpar,dmax,m,datapar)\n",
    "dim(theta)"
   ]
  },
  {
   "cell_type": "code",
   "execution_count": 80,
   "metadata": {
    "nbgrader": {
     "grade": true,
     "grade_id": "cell-b370db2408ae5462",
     "locked": false,
     "points": 15,
     "schema_version": 3,
     "solution": true,
     "task": false
    }
   },
   "outputs": [
    {
     "data": {
      "text/html": [
       "0.4166"
      ],
      "text/latex": [
       "0.4166"
      ],
      "text/markdown": [
       "0.4166"
      ],
      "text/plain": [
       "[1] 0.4166"
      ]
     },
     "metadata": {},
     "output_type": "display_data"
    }
   ],
   "source": [
    "#rejection sampling\n",
    "\n",
    "yy = rep(NA,n)\n",
    "zz = matrix(NA,ncol = 3, nrow = m)\n",
    "beta_sim = c(NA,NA,NA)\n",
    "for (i in 1:m){\n",
    "    beta_sim = t(rmt(n = 1,mean=c(tpar$m),S=tpar$var,df=tpar$df)); #print(beta_sim)\n",
    "    pp = logpostT(c(beta_sim[1],beta_sim[2],beta_sim[3]),datapar)-dmax; #print(pp)\n",
    "    u = runif(1,0,1)\n",
    "    if (log(u) < pp) {\n",
    "        zz[i,] = t(beta_sim)\n",
    "    } else {\n",
    "        zz[i,] = c(NA,NA,NA)\n",
    "    }\n",
    "    yy[i] = log(u) < pp\n",
    "}\n",
    "sum(yy)/m\n",
    "\n",
    "beta = (na.omit(zz))"
   ]
  },
  {
   "cell_type": "markdown",
   "metadata": {
    "nbgrader": {
     "grade": false,
     "grade_id": "cell-ed1b24ee58e5e346",
     "locked": true,
     "schema_version": 3,
     "solution": false,
     "task": false
    }
   },
   "source": [
    "**B.2 (e) [7 points] Compare your answers using various summaries and visualizations.**\n",
    "\n",
    "- In the first cell, compare the mean of the rejection sampling draws with the LS estimates.\n",
    "\n",
    "- In the second cell, construct and comment on histograms of the draws for each $\\beta_j$.\n",
    "\n",
    "- In the third cell, for each $\\beta_j$, plot the rejection sampling draws as a function of their index. What do you see?"
   ]
  },
  {
   "cell_type": "code",
   "execution_count": 103,
   "metadata": {
    "nbgrader": {
     "grade": true,
     "grade_id": "cell-b62e4b4a89987322",
     "locked": false,
     "points": 1,
     "schema_version": 3,
     "solution": true,
     "task": false
    }
   },
   "outputs": [
    {
     "data": {
      "text/html": [
       "<ol class=list-inline>\n",
       "\t<li>4166</li>\n",
       "\t<li>3</li>\n",
       "</ol>\n"
      ],
      "text/latex": [
       "\\begin{enumerate*}\n",
       "\\item 4166\n",
       "\\item 3\n",
       "\\end{enumerate*}\n"
      ],
      "text/markdown": [
       "1. 4166\n",
       "2. 3\n",
       "\n",
       "\n"
      ],
      "text/plain": [
       "[1] 4166    3"
      ]
     },
     "metadata": {},
     "output_type": "display_data"
    },
    {
     "data": {
      "text/html": [
       "<ol class=list-inline>\n",
       "\t<li>0.747246427399132</li>\n",
       "\t<li>0.533758167728522</li>\n",
       "\t<li>-0.00253220709243483</li>\n",
       "</ol>\n"
      ],
      "text/latex": [
       "\\begin{enumerate*}\n",
       "\\item 0.747246427399132\n",
       "\\item 0.533758167728522\n",
       "\\item -0.00253220709243483\n",
       "\\end{enumerate*}\n"
      ],
      "text/markdown": [
       "1. 0.747246427399132\n",
       "2. 0.533758167728522\n",
       "3. -0.00253220709243483\n",
       "\n",
       "\n"
      ],
      "text/plain": [
       "[1]  0.747246427  0.533758168 -0.002532207"
      ]
     },
     "metadata": {},
     "output_type": "display_data"
    },
    {
     "data": {
      "text/html": [
       "<ol class=list-inline>\n",
       "\t<li>-6.80553069686171</li>\n",
       "\t<li>7.89247792847316</li>\n",
       "</ol>\n"
      ],
      "text/latex": [
       "\\begin{enumerate*}\n",
       "\\item -6.80553069686171\n",
       "\\item 7.89247792847316\n",
       "\\end{enumerate*}\n"
      ],
      "text/markdown": [
       "1. -6.80553069686171\n",
       "2. 7.89247792847316\n",
       "\n",
       "\n"
      ],
      "text/plain": [
       "[1] -6.805531  7.892478"
      ]
     },
     "metadata": {},
     "output_type": "display_data"
    },
    {
     "data": {
      "text/html": [
       "<dl class=dl-horizontal>\n",
       "\t<dt>youtube</dt>\n",
       "\t\t<dd>0.753065911773556</dd>\n",
       "\t<dt>facebook</dt>\n",
       "\t\t<dd>0.536481549949095</dd>\n",
       "\t<dt>newspaper</dt>\n",
       "\t\t<dd>-0.00433068628557327</dd>\n",
       "</dl>\n"
      ],
      "text/latex": [
       "\\begin{description*}\n",
       "\\item[youtube] 0.753065911773556\n",
       "\\item[facebook] 0.536481549949095\n",
       "\\item[newspaper] -0.00433068628557327\n",
       "\\end{description*}\n"
      ],
      "text/markdown": [
       "youtube\n",
       ":   0.753065911773556facebook\n",
       ":   0.536481549949095newspaper\n",
       ":   -0.00433068628557327\n",
       "\n"
      ],
      "text/plain": [
       "     youtube     facebook    newspaper \n",
       " 0.753065912  0.536481550 -0.004330686 "
      ]
     },
     "metadata": {},
     "output_type": "display_data"
    }
   ],
   "source": [
    "dim(beta)\n",
    "colMeans(beta); \n",
    "colMeans(theta); \n",
    "coef(lmod_full)"
   ]
  },
  {
   "cell_type": "code",
   "execution_count": 102,
   "metadata": {
    "nbgrader": {
     "grade": true,
     "grade_id": "cell-1f5f216873a239a1",
     "locked": false,
     "points": 2,
     "schema_version": 3,
     "solution": true,
     "task": false
    }
   },
   "outputs": [
    {
     "data": {
      "image/png": "[encoded data removed]",
      "text/plain": [
       "Plot with title “Histogram of beta[, i]”"
      ]
     },
     "metadata": {},
     "output_type": "display_data"
    }
   ],
   "source": [
    "par(mfrow = c(2,2))\n",
    "for (i in 1:3){\n",
    "        hist(beta[,i])\n",
    "}"
   ]
  },
  {
   "cell_type": "code",
   "execution_count": 100,
   "metadata": {
    "nbgrader": {
     "grade": true,
     "grade_id": "cell-22d93032d6938bec",
     "locked": false,
     "points": 2,
     "schema_version": 3,
     "solution": true,
     "task": false
    }
   },
   "outputs": [
    {
     "data": {
      "image/png": "[encoded data removed]",
      "text/plain": [
       "plot without title"
      ]
     },
     "metadata": {},
     "output_type": "display_data"
    }
   ],
   "source": [
    "par(mfrow = c(2,2))\n",
    "for (i in 1:3){\n",
    "    plot(beta[,i], type = \"l\")\n",
    "    lines(rep(mean(beta[,i]), length(beta[,i])), col = \"red\")\n",
    "}"
   ]
  },
  {
   "cell_type": "code",
   "execution_count": null,
   "metadata": {
    "nbgrader": {
     "grade": true,
     "grade_id": "cell-06f2fb1279fa7b17",
     "locked": false,
     "points": 2,
     "schema_version": 3,
     "solution": true,
     "task": false
    }
   },
   "outputs": [],
   "source": []
  }
 ],
 "metadata": {
  "celltoolbar": "Create Assignment",
  "colab": {
   "name": "STAT4000-5000_HW8_Solutions.ipynb",
   "provenance": []
  },
  "kernelspec": {
   "display_name": "R",
   "language": "R",
   "name": "ir"
  },
  "language_info": {
   "codemirror_mode": "r",
   "file_extension": ".r",
   "mimetype": "text/x-r-source",
   "name": "R",
   "pygments_lexer": "r",
   "version": "3.6.1"
  }
 },
 "nbformat": 4,
 "nbformat_minor": 1
}
